{
 "cells": [
  {
   "cell_type": "markdown",
   "id": "6df2ad75",
   "metadata": {},
   "source": [
    "Implementación de algoritmos de vecinos dentro del marco del filtrado colaborativo. La idea es tener una \n",
    "implementación sencilla en la notebook y luego modularlo de manera correcta en la librería."
   ]
  },
  {
   "cell_type": "code",
   "execution_count": 20,
   "id": "3d6eb33a",
   "metadata": {},
   "outputs": [],
   "source": [
    "import numpy as np\n",
    "import pandas as pd\n",
    "from tqdm import tqdm\n",
    "\n",
    "def generate_ratings_matrix(data_rows: np.ndarray):\n",
    "    r = np.zeros((943, 1682))\n",
    "    r[:] = np.nan\n",
    "    for i in data_rows:\n",
    "        r[i[0] - 1][i[1] - 1] = i[2]\n",
    "    return r"
   ]
  },
  {
   "cell_type": "code",
   "execution_count": 2,
   "id": "2a6c2782",
   "metadata": {},
   "outputs": [],
   "source": [
    "train = pd.read_csv(\"../data/train.csv\")\n",
    "test = pd.read_csv(\"../data/test.csv\")"
   ]
  },
  {
   "cell_type": "code",
   "execution_count": 3,
   "id": "50d1ebc0",
   "metadata": {},
   "outputs": [
    {
     "data": {
      "text/html": [
       "<div>\n",
       "<style scoped>\n",
       "    .dataframe tbody tr th:only-of-type {\n",
       "        vertical-align: middle;\n",
       "    }\n",
       "\n",
       "    .dataframe tbody tr th {\n",
       "        vertical-align: top;\n",
       "    }\n",
       "\n",
       "    .dataframe thead th {\n",
       "        text-align: right;\n",
       "    }\n",
       "</style>\n",
       "<table border=\"1\" class=\"dataframe\">\n",
       "  <thead>\n",
       "    <tr style=\"text-align: right;\">\n",
       "      <th></th>\n",
       "      <th>user_id</th>\n",
       "      <th>item_id</th>\n",
       "      <th>rating</th>\n",
       "      <th>timestamp</th>\n",
       "    </tr>\n",
       "  </thead>\n",
       "  <tbody>\n",
       "    <tr>\n",
       "      <th>0</th>\n",
       "      <td>85</td>\n",
       "      <td>423</td>\n",
       "      <td>4</td>\n",
       "      <td>879454046</td>\n",
       "    </tr>\n",
       "    <tr>\n",
       "      <th>1</th>\n",
       "      <td>290</td>\n",
       "      <td>71</td>\n",
       "      <td>5</td>\n",
       "      <td>880473667</td>\n",
       "    </tr>\n",
       "    <tr>\n",
       "      <th>2</th>\n",
       "      <td>152</td>\n",
       "      <td>692</td>\n",
       "      <td>5</td>\n",
       "      <td>880149963</td>\n",
       "    </tr>\n",
       "    <tr>\n",
       "      <th>3</th>\n",
       "      <td>759</td>\n",
       "      <td>678</td>\n",
       "      <td>2</td>\n",
       "      <td>875227742</td>\n",
       "    </tr>\n",
       "    <tr>\n",
       "      <th>4</th>\n",
       "      <td>92</td>\n",
       "      <td>928</td>\n",
       "      <td>3</td>\n",
       "      <td>886443582</td>\n",
       "    </tr>\n",
       "  </tbody>\n",
       "</table>\n",
       "</div>"
      ],
      "text/plain": [
       "   user_id  item_id  rating  timestamp\n",
       "0       85      423       4  879454046\n",
       "1      290       71       5  880473667\n",
       "2      152      692       5  880149963\n",
       "3      759      678       2  875227742\n",
       "4       92      928       3  886443582"
      ]
     },
     "execution_count": 3,
     "metadata": {},
     "output_type": "execute_result"
    }
   ],
   "source": [
    "train.head()"
   ]
  },
  {
   "cell_type": "code",
   "execution_count": 4,
   "id": "4a3f3a37",
   "metadata": {},
   "outputs": [
    {
     "data": {
      "text/html": [
       "<div>\n",
       "<style scoped>\n",
       "    .dataframe tbody tr th:only-of-type {\n",
       "        vertical-align: middle;\n",
       "    }\n",
       "\n",
       "    .dataframe tbody tr th {\n",
       "        vertical-align: top;\n",
       "    }\n",
       "\n",
       "    .dataframe thead th {\n",
       "        text-align: right;\n",
       "    }\n",
       "</style>\n",
       "<table border=\"1\" class=\"dataframe\">\n",
       "  <thead>\n",
       "    <tr style=\"text-align: right;\">\n",
       "      <th></th>\n",
       "      <th>user_id</th>\n",
       "      <th>item_id</th>\n",
       "      <th>rating</th>\n",
       "      <th>timestamp</th>\n",
       "    </tr>\n",
       "  </thead>\n",
       "  <tbody>\n",
       "    <tr>\n",
       "      <th>0</th>\n",
       "      <td>301</td>\n",
       "      <td>39</td>\n",
       "      <td>3</td>\n",
       "      <td>882076292</td>\n",
       "    </tr>\n",
       "    <tr>\n",
       "      <th>1</th>\n",
       "      <td>288</td>\n",
       "      <td>121</td>\n",
       "      <td>2</td>\n",
       "      <td>886893063</td>\n",
       "    </tr>\n",
       "    <tr>\n",
       "      <th>2</th>\n",
       "      <td>234</td>\n",
       "      <td>614</td>\n",
       "      <td>3</td>\n",
       "      <td>892334609</td>\n",
       "    </tr>\n",
       "    <tr>\n",
       "      <th>3</th>\n",
       "      <td>387</td>\n",
       "      <td>581</td>\n",
       "      <td>4</td>\n",
       "      <td>886483394</td>\n",
       "    </tr>\n",
       "    <tr>\n",
       "      <th>4</th>\n",
       "      <td>544</td>\n",
       "      <td>346</td>\n",
       "      <td>4</td>\n",
       "      <td>884795135</td>\n",
       "    </tr>\n",
       "  </tbody>\n",
       "</table>\n",
       "</div>"
      ],
      "text/plain": [
       "   user_id  item_id  rating  timestamp\n",
       "0      301       39       3  882076292\n",
       "1      288      121       2  886893063\n",
       "2      234      614       3  892334609\n",
       "3      387      581       4  886483394\n",
       "4      544      346       4  884795135"
      ]
     },
     "execution_count": 4,
     "metadata": {},
     "output_type": "execute_result"
    }
   ],
   "source": [
    "test.head()"
   ]
  },
  {
   "cell_type": "markdown",
   "id": "174d4a63",
   "metadata": {},
   "source": [
    "# User-based"
   ]
  },
  {
   "cell_type": "markdown",
   "id": "bfb5a4d3",
   "metadata": {},
   "source": [
    "Lo primero que debemos hacer es computar la matriz de similaridades entre todos los usuarios del train. Después, debemos verificar las predicciones en el test. Cualquiera optimización del número de vecinos debe hacerse mediante validación cruzada. Los resultados finales se obtienen sobre el conjunto de test."
   ]
  },
  {
   "cell_type": "code",
   "execution_count": 19,
   "id": "663f9873",
   "metadata": {},
   "outputs": [],
   "source": [
    "def cosine_similarity(u, v):\n",
    "    num = np.nansum(u * v)\n",
    "    den = np.sqrt((np.nansum(u * u)) * (np.nansum(v * v)))\n",
    "    return num / den"
   ]
  },
  {
   "cell_type": "code",
   "execution_count": 8,
   "id": "1ff33218",
   "metadata": {},
   "outputs": [],
   "source": [
    "r_train = generate_ratings_matrix(train.values)"
   ]
  },
  {
   "cell_type": "code",
   "execution_count": 21,
   "id": "a4af8a86",
   "metadata": {},
   "outputs": [
    {
     "name": "stderr",
     "output_type": "stream",
     "text": [
      "943it [01:01, 15.23it/s]\n"
     ]
    }
   ],
   "source": [
    "sim_matrix = np.zeros((943, 943))\n",
    "\n",
    "for i, u in tqdm(enumerate(r_train)):\n",
    "    for j, v in enumerate(r_train):\n",
    "        sim_matrix[i][j] = cosine_similarity(u, v)\n",
    "        "
   ]
  },
  {
   "cell_type": "code",
   "execution_count": 33,
   "id": "63b4d214",
   "metadata": {
    "scrolled": false
   },
   "outputs": [
    {
     "ename": "IndentationError",
     "evalue": "expected an indented block (3375891148.py, line 14)",
     "output_type": "error",
     "traceback": [
      "\u001b[0;36m  Input \u001b[0;32mIn [33]\u001b[0;36m\u001b[0m\n\u001b[0;31m    while k <= K:\u001b[0m\n\u001b[0m    ^\u001b[0m\n\u001b[0;31mIndentationError\u001b[0m\u001b[0;31m:\u001b[0m expected an indented block\n"
     ]
    }
   ],
   "source": [
    "K = 10\n",
    "\n",
    "for i in test.values:\n",
    "    user_id = i[0] - 1\n",
    "    item_id = i[1] - 1\n",
    "    true_rating = i[2]\n",
    "        \n",
    "    similarities = np.argsort(sim_matrix[user_id])[::-1][1:]\n",
    "    neighbors = []\n",
    "    n_neighbors = 0\n",
    "    ratings = \n",
    "\n",
    "    for neighbor in similarities:\n",
    "        if train.values[neighbor][item_id] != np.nan:\n",
    "            n_neighbors += 1\n",
    "            neighbors.append()"
   ]
  },
  {
   "cell_type": "code",
   "execution_count": null,
   "id": "75d17b14",
   "metadata": {},
   "outputs": [],
   "source": []
  }
 ],
 "metadata": {
  "kernelspec": {
   "display_name": "Python 3 (ipykernel)",
   "language": "python",
   "name": "python3"
  },
  "language_info": {
   "codemirror_mode": {
    "name": "ipython",
    "version": 3
   },
   "file_extension": ".py",
   "mimetype": "text/x-python",
   "name": "python",
   "nbconvert_exporter": "python",
   "pygments_lexer": "ipython3",
   "version": "3.8.10"
  }
 },
 "nbformat": 4,
 "nbformat_minor": 5
}
