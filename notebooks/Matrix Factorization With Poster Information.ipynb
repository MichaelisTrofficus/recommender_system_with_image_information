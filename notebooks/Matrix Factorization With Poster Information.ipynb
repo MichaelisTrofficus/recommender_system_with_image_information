{
 "cells": [
  {
   "cell_type": "code",
   "execution_count": 1,
   "id": "197a88c0",
   "metadata": {},
   "outputs": [],
   "source": [
    "import os\n",
    "\n",
    "import scienceplots\n",
    "import matplotlib.pyplot as plt\n",
    "import numpy as np\n",
    "import pandas as pd\n",
    "from sklearn.model_selection import train_test_split\n",
    "\n",
    "import torch\n",
    "from torch.utils.data import Dataset, DataLoader\n",
    "import torchvision\n",
    "from torchvision.transforms import transforms\n",
    "from torchvision.io import read_image\n",
    "from torchvision.transforms import ToTensor\n",
    "from torchvision.io import read_image\n",
    "\n",
    "import matplotlib.pyplot as plt\n",
    "from PIL import Image\n",
    "\n",
    "### HELPERS ###\n",
    "\n",
    "def get_train_val_test(data, seed):\n",
    "    \"\"\"\n",
    "    Generates train, val and test splits from input dataframe\n",
    "    \"\"\"\n",
    "    train_df, test_df = train_test_split(data, test_size=0.1, random_state=SEED)\n",
    "    train_df, val_df = train_test_split(train_df, test_size=0.1 / 0.9, random_state=SEED)\n",
    "    return train_df, val_df, test_df\n",
    "\n",
    "# Add this path to use SciencePlots (it uses latex)\n",
    "os.environ[\"PATH\"] += os.pathsep + \"/Library/TeX/texbin\"\n",
    "\n",
    "plt.rcParams[\"figure.figsize\"] = (30,30)\n",
    "plt.style.use(['science', 'notebook'])\n",
    "pd.set_option('display.max_columns', None)\n",
    "\n",
    "SEED = 128\n",
    "BASE_PATH = \"../ml-100k\"\n",
    "COLUMN_NAMES = [\"user_id\", \"item_id\", \"rating\", \"timestamp\"]\n",
    "\n",
    "# Problem Specific constants\n",
    "N_USERS = 943\n",
    "N_ITEMS = 1682\n",
    "\n",
    "data = pd.read_csv(os.path.join(BASE_PATH, \"u.data\"),\n",
    "                   sep=\"\\t\", header=None,\n",
    "                   names=COLUMN_NAMES)\n",
    "data[\"user_id\"] = data[\"user_id\"] - 1\n",
    "data[\"item_id\"] = data[\"item_id\"] - 1\n",
    "\n",
    "assert data[\"user_id\"].min() == 0\n",
    "assert data[\"item_id\"].min() == 0\n",
    "\n",
    "assert data[\"user_id\"].max() == N_USERS - 1\n",
    "assert data[\"item_id\"].max() == N_ITEMS - 1"
   ]
  },
  {
   "cell_type": "markdown",
   "id": "692bfa1b",
   "metadata": {},
   "source": [
    "# 1. Generate train, validation and test"
   ]
  },
  {
   "cell_type": "markdown",
   "id": "d4df7680",
   "metadata": {},
   "source": [
    "We will generate 80-10-10 splits for train, validation and test. After we have created some useful architectures, we should test the results with multiple experiments (different splits). "
   ]
  },
  {
   "cell_type": "code",
   "execution_count": 64,
   "id": "bb039027",
   "metadata": {},
   "outputs": [],
   "source": [
    "train_df, val_df, test_df = get_train_val_test(data, seed=SEED)"
   ]
  },
  {
   "cell_type": "code",
   "execution_count": 65,
   "id": "f958941b",
   "metadata": {},
   "outputs": [
    {
     "name": "stdout",
     "output_type": "stream",
     "text": [
      "Train: 80000, | Validation: 10000 | Test: 10000\n"
     ]
    }
   ],
   "source": [
    "print(f\"Train: {train_df.shape[0]}, | Validation: {val_df.shape[0]} | Test: {test_df.shape[0]}\")"
   ]
  },
  {
   "cell_type": "code",
   "execution_count": 66,
   "id": "e1d18e8d",
   "metadata": {},
   "outputs": [],
   "source": [
    "train_df.to_csv(\"../data/train_df.csv\", header=True, index=False)\n",
    "val_df.to_csv(\"../data/val_df.csv\", header=True, index=False)\n",
    "test_df.to_csv(\"../data/test_df.csv\", header=True, index=False)"
   ]
  },
  {
   "cell_type": "markdown",
   "id": "1abceedd",
   "metadata": {},
   "source": [
    "# 2. Simple Matrix Factorization"
   ]
  },
  {
   "cell_type": "code",
   "execution_count": 2,
   "id": "0aae43d1",
   "metadata": {},
   "outputs": [],
   "source": [
    "class MovielensDataset(Dataset):\n",
    "    def __init__(self, path, transform=None):\n",
    "        self.ratings = pd.read_csv(path).values\n",
    "        self.path = path\n",
    "        self.transform= transform\n",
    "        \n",
    "    def __len__(self):\n",
    "        return len(self.ratings)\n",
    "    \n",
    "    def __getitem__(self, idx):\n",
    "        \"\"\"\n",
    "        Returns uid, iid and rating\n",
    "        \"\"\"\n",
    "        return int(self.ratings[idx][0]), int(self.ratings[idx][1]), float(self.ratings[idx][2])\n",
    "    \n",
    "    \n",
    "class MatrixFactorization(torch.nn.Module):\n",
    "    def __init__(self, n_users, n_items, n_factors=30):\n",
    "        super().__init__()\n",
    "        self.user_factors = torch.nn.Embedding(n_users, n_factors)\n",
    "        self.user_bias = torch.nn.Embedding(n_users, 1)\n",
    "            \n",
    "        self.item_factors = torch.nn.Embedding(n_items, n_factors)\n",
    "        self.item_bias = torch.nn.Embedding(n_items, 1) \n",
    "        \n",
    "        for param in self.parameters():\n",
    "            torch.nn.init.normal_(param, std=0.01)  \n",
    "    \n",
    "    def forward(self, user, item):\n",
    "        Q = self.user_factors(user)\n",
    "        bq = self.user_bias(user).flatten()\n",
    "\n",
    "        I = self.item_factors(item)\n",
    "        bi = self.item_bias(item).flatten()\n",
    "\n",
    "        return (Q*I).sum(-1) + bq + bi"
   ]
  },
  {
   "cell_type": "code",
   "execution_count": 3,
   "id": "b484b5e3",
   "metadata": {},
   "outputs": [],
   "source": [
    "train_dataset = MovielensDataset(path=\"../data/train_df.csv\", transform=ToTensor())\n",
    "validation_dataset = MovielensDataset(path=\"../data/val_df.csv\", transform=ToTensor())\n",
    "test_dataset = MovielensDataset(path=\"../data/test_df.csv\", transform=ToTensor())"
   ]
  },
  {
   "cell_type": "code",
   "execution_count": 89,
   "id": "24e9f170",
   "metadata": {},
   "outputs": [],
   "source": [
    "train_dataloader = DataLoader(train_dataset, batch_size=512, shuffle=True)\n",
    "validation_dataloader = DataLoader(validation_dataset, batch_size=len(validation_dataset), shuffle=False) # Use all the dataset to compute the MSE\n",
    "test_dataloader = DataLoader(test_dataset, batch_size=len(test_dataset), shuffle=False) # Use all the dataset to compute the MSE"
   ]
  },
  {
   "cell_type": "code",
   "execution_count": 120,
   "id": "b2eb5ba1",
   "metadata": {},
   "outputs": [],
   "source": [
    "model = MatrixFactorization(N_USERS, N_ITEMS, n_factors=30)\n",
    "loss_func = torch.nn.MSELoss()\n",
    "optimizer = torch.optim.Adam(model.parameters(),lr=0.002, weight_decay=1e-4)"
   ]
  },
  {
   "cell_type": "code",
   "execution_count": 121,
   "id": "1cda6991",
   "metadata": {
    "scrolled": false
   },
   "outputs": [
    {
     "name": "stdout",
     "output_type": "stream",
     "text": [
      "Epoch 1 | Training loss: 3.2385946331742517 | Validation loss: 2.0714308687018823\n",
      "Epoch 2 | Training loss: 1.4146050038323636 | Validation loss: 1.0976131878751498\n",
      "Epoch 3 | Training loss: 1.0431158190109482 | Validation loss: 0.997410969166994\n",
      "Epoch 4 | Training loss: 0.9832653829843393 | Validation loss: 0.9690518062903222\n",
      "Epoch 5 | Training loss: 0.9619723370838397 | Validation loss: 0.96163865227667\n",
      "Epoch 6 | Training loss: 0.9535888512286655 | Validation loss: 0.9552449273796144\n",
      "Epoch 7 | Training loss: 0.9496543294636057 | Validation loss: 0.9526522355059979\n",
      "Epoch 8 | Training loss: 0.9457639485819779 | Validation loss: 0.9499596424063367\n",
      "Epoch 9 | Training loss: 0.9433034163982428 | Validation loss: 0.9512152064673588\n",
      "Epoch 10 | Training loss: 0.94273984192607 | Validation loss: 0.9487221443097706\n",
      "Epoch 11 | Training loss: 0.9407356782168291 | Validation loss: 0.946945545350938\n",
      "Epoch 12 | Training loss: 0.9388265657744257 | Validation loss: 0.9464724336469901\n",
      "Epoch 13 | Training loss: 0.936789618482341 | Validation loss: 0.9458014114527457\n",
      "Epoch 14 | Training loss: 0.9340748020937572 | Validation loss: 0.9420708807136728\n",
      "Epoch 15 | Training loss: 0.9305665761877072 | Validation loss: 0.9407264819483709\n",
      "Epoch 16 | Training loss: 0.9254508511154474 | Validation loss: 0.9391519932304367\n",
      "Epoch 17 | Training loss: 0.9198708722903192 | Validation loss: 0.9338805264981005\n",
      "Epoch 18 | Training loss: 0.9135051215566401 | Validation loss: 0.9304722591305149\n",
      "Epoch 19 | Training loss: 0.9074260371044299 | Validation loss: 0.9283586509808988\n",
      "Epoch 20 | Training loss: 0.9003071967093674 | Validation loss: 0.9249907067837282\n",
      "Epoch 21 | Training loss: 0.8934746067892688 | Validation loss: 0.923036457895719\n",
      "Epoch 22 | Training loss: 0.8858221375075603 | Validation loss: 0.9207165762008135\n",
      "Epoch 23 | Training loss: 0.8800478202430246 | Validation loss: 0.9186341816049722\n",
      "Epoch 24 | Training loss: 0.8726494700713981 | Validation loss: 0.918130413997676\n",
      "Epoch 25 | Training loss: 0.8646443828496098 | Validation loss: 0.9148356110742584\n",
      "Epoch 26 | Training loss: 0.8566638041777406 | Validation loss: 0.9126084002030248\n",
      "Epoch 27 | Training loss: 0.8484748278962456 | Validation loss: 0.9136505502835575\n",
      "Epoch 28 | Training loss: 0.8392374550355237 | Validation loss: 0.9113165536236617\n",
      "Epoch 29 | Training loss: 0.8292271319791062 | Validation loss: 0.9105872578546085\n",
      "Epoch 30 | Training loss: 0.8191530954377777 | Validation loss: 0.9099445014839888\n",
      "Epoch 31 | Training loss: 0.8086112054643727 | Validation loss: 0.909066853963602\n",
      "Epoch 32 | Training loss: 0.7986541891838131 | Validation loss: 0.9090163005210836\n",
      "Epoch 33 | Training loss: 0.7872506412349999 | Validation loss: 0.907559139857322\n",
      "Epoch 34 | Training loss: 0.7760555231471721 | Validation loss: 0.9112407787991952\n",
      "Epoch 35 | Training loss: 0.7647445293994344 | Validation loss: 0.9124402705984762\n",
      "Epoch 36 | Training loss: 0.7536331556586401 | Validation loss: 0.9139107146132058\n",
      "Epoch 37 | Training loss: 0.7425081034394875 | Validation loss: 0.9120523242956584\n",
      "Epoch 38 | Training loss: 0.7308316766409461 | Validation loss: 0.9133105975706663\n",
      "Epoch 39 | Training loss: 0.719485576791468 | Validation loss: 0.9169814949102867\n",
      "Epoch 40 | Training loss: 0.7089899809248356 | Validation loss: 0.919021489779374\n"
     ]
    }
   ],
   "source": [
    "train_loss = []\n",
    "val_loss = []\n",
    "best_val_loss = np.inf\n",
    "\n",
    "for e in range(40):\n",
    "    train_losses = []\n",
    "    val_losses = []\n",
    "    \n",
    "    for uid, iid, rating in train_dataloader:\n",
    "        # Set gradients to zero\n",
    "        optimizer.zero_grad()\n",
    "        rating_hat = model(uid.to(torch.long), iid.to(torch.long))\n",
    "        loss = loss_func(rating_hat, rating.to(torch.float))\n",
    "\n",
    "        # Backpropagate\n",
    "        loss.backward()\n",
    "\n",
    "        # Update the parameters\n",
    "        optimizer.step()\n",
    "        train_losses.append(float(loss))\n",
    "    \n",
    "    for uid, iid, rating in validation_dataloader:\n",
    "        rating_hat = model(uid, iid)\n",
    "        loss = loss_func(rating_hat, rating.to(torch.float))\n",
    "        val_losses.append(float(loss))\n",
    "        \n",
    "    train_loss.append(np.sqrt(np.mean(train_losses)))\n",
    "    val_loss.append(np.sqrt(np.mean(val_losses)))\n",
    "    print(f\"Epoch {e + 1} | Training loss: {train_loss[-1]} | Validation loss: {val_loss[-1]}\")\n",
    "    \n",
    "    if val_loss[-1] < best_val_loss:\n",
    "        torch.save(model.state_dict(), './model_checkpoints/best-model-parameters.pt') # official recommended\n",
    "        best_val_loss = val_loss[-1]"
   ]
  },
  {
   "cell_type": "code",
   "execution_count": 122,
   "id": "3e5f6cc5",
   "metadata": {},
   "outputs": [
    {
     "data": {
      "text/plain": [
       "[<matplotlib.lines.Line2D at 0x7f23b88cc580>]"
      ]
     },
     "execution_count": 122,
     "metadata": {},
     "output_type": "execute_result"
    },
    {
     "data": {
      "image/png": "[encoded data removed]",
      "text/plain": [
       "<Figure size 800x600 with 1 Axes>"
      ]
     },
     "metadata": {},
     "output_type": "display_data"
    }
   ],
   "source": [
    "plt.plot(train_loss)\n",
    "plt.plot(val_loss)"
   ]
  },
  {
   "cell_type": "markdown",
   "id": "2bafb6d9",
   "metadata": {},
   "source": [
    "Retrieve best model and generate metrics for test."
   ]
  },
  {
   "cell_type": "code",
   "execution_count": 123,
   "id": "e368854b",
   "metadata": {},
   "outputs": [
    {
     "data": {
      "text/plain": [
       "<All keys matched successfully>"
      ]
     },
     "execution_count": 123,
     "metadata": {},
     "output_type": "execute_result"
    }
   ],
   "source": [
    "model = MatrixFactorization(N_USERS, N_ITEMS, n_factors=30)\n",
    "model.load_state_dict(torch.load('./model_checkpoints/best-model-parameters.pt'))"
   ]
  },
  {
   "cell_type": "code",
   "execution_count": 129,
   "id": "dbcea4cd",
   "metadata": {
    "scrolled": true
   },
   "outputs": [
    {
     "name": "stdout",
     "output_type": "stream",
     "text": [
      "RMSE: 0.9065481221723304\n"
     ]
    }
   ],
   "source": [
    "for uid, iid, rating in test_dataloader:\n",
    "    rating_hat = model(uid, iid)\n",
    "    loss = loss_func(rating_hat, rating.to(torch.float))\n",
    "    print(f\"RMSE: {np.sqrt(float(loss))}\")"
   ]
  },
  {
   "cell_type": "markdown",
   "id": "dcd4b604",
   "metadata": {},
   "source": [
    "Now, let's try to add some additional information apart from the interaction between users and items."
   ]
  },
  {
   "cell_type": "markdown",
   "id": "671f2fe4",
   "metadata": {},
   "source": [
    "# 3. MF + poster information"
   ]
  },
  {
   "cell_type": "code",
   "execution_count": 14,
   "id": "ac2face9",
   "metadata": {},
   "outputs": [],
   "source": [
    "def pil_loader(path: str) -> Image.Image:\n",
    "    with open(path, \"rb\") as f:\n",
    "        img = Image.open(f)\n",
    "        return img.convert(\"RGB\")\n",
    "\n",
    "class MovielensPostersDataset(Dataset):\n",
    "    def __init__(self,\n",
    "                 ratings_path: str,\n",
    "                 posters_dir: str,\n",
    "                 posters_transform=ToTensor()):\n",
    "        self.ratings_path = ratings_path\n",
    "        self.ratings = pd.read_csv(ratings_path).values\n",
    "        self.posters_dir = posters_dir\n",
    "        self.posters_transform = posters_transform\n",
    "        \n",
    "    def __len__(self):\n",
    "        return len(self.ratings)\n",
    "    \n",
    "    def __getitem__(self, idx):\n",
    "        uid = int(self.ratings[idx][0])\n",
    "        iid = int(self.ratings[idx][1])\n",
    "        rating = float(self.ratings[idx][2])\n",
    "        poster = pil_loader(os.path.join(self.posters_dir, f\"{iid + 1}.jpg\"))\n",
    "        \n",
    "        if self.posters_transform:\n",
    "            poster = self.posters_transform(poster)\n",
    "        \n",
    "        return uid, iid, rating, poster\n",
    "    \n",
    "class MatrixFactorizationWithPosterInformation(torch.nn.Module):\n",
    "    def __init__(self, n_users, n_items, n_factors=30):\n",
    "        super().__init__()\n",
    "                \n",
    "        # User / Item \n",
    "        self.user_factors = torch.nn.Embedding(n_users, n_factors)\n",
    "        self.item_factors = torch.nn.Embedding(n_items, n_factors)\n",
    "                \n",
    "        # Biases\n",
    "        self.user_bias = torch.nn.Embedding(n_users, 1)\n",
    "        self.item_bias = torch.nn.Embedding(n_items, 1) \n",
    "        \n",
    "        for param in self.parameters():\n",
    "            torch.nn.init.normal_(param, std=0.01)  \n",
    "            \n",
    "        # CNN for feature extraction\n",
    "        self.model_conv = torchvision.models.resnet18(weights='IMAGENET1K_V1')\n",
    "        for param in self.model_conv.parameters():\n",
    "            param.requires_grad = False\n",
    "        num_ftrs = self.model_conv.fc.in_features\n",
    "        self.model_conv.fc = torch.nn.Linear(num_ftrs, n_factors)\n",
    "    \n",
    "    def forward(self, user, item, poster):\n",
    "        Q = self.user_factors(user)\n",
    "        bq = self.user_bias(user).flatten()\n",
    "\n",
    "        I = self.item_factors(item)\n",
    "        bi = self.item_bias(item).flatten()\n",
    "        \n",
    "        P = self.model_conv(poster)\n",
    "\n",
    "        return (Q*(I + P)).sum(-1) + bq + bi"
   ]
  },
  {
   "cell_type": "code",
   "execution_count": 24,
   "id": "585309fa",
   "metadata": {},
   "outputs": [],
   "source": [
    "datasets = {\n",
    "    x: MovielensPostersDataset(ratings_path=f\"../data/{x}_df.csv\",\n",
    "                               posters_dir=\"../posters\",\n",
    "                               posters_transform=transforms.Compose([\n",
    "                                   transforms.Resize((256, 256)),\n",
    "                                   transforms.ToTensor(),\n",
    "                                   transforms.Normalize(mean=[0.485, 0.456, 0.406], std=[0.229, 0.224, 0.225])\n",
    "                               ])\n",
    "                              )\n",
    "    for x in [\"train\", \"val\", \"test\"]\n",
    "}\n",
    "\n",
    "dataloaders = {x: torch.utils.data.DataLoader(datasets[x], batch_size=1 if x == \"train\" else 1, shuffle=True) for x in \n",
    "               [\"train\", \"val\", \"test\"]}"
   ]
  },
  {
   "cell_type": "code",
   "execution_count": 25,
   "id": "9040fd57",
   "metadata": {
    "scrolled": true
   },
   "outputs": [],
   "source": [
    "model = MatrixFactorizationWithPosterInformation(N_USERS, N_ITEMS, n_factors=30)"
   ]
  },
  {
   "cell_type": "code",
   "execution_count": 26,
   "id": "d41bbc50",
   "metadata": {},
   "outputs": [],
   "source": [
    "loss_func = torch.nn.MSELoss()\n",
    "optimizer = torch.optim.Adam(model.parameters(),lr=0.002, weight_decay=1e-4)"
   ]
  },
  {
   "cell_type": "code",
   "execution_count": null,
   "id": "8398366c",
   "metadata": {},
   "outputs": [],
   "source": [
    "train_loss = []\n",
    "val_loss = []\n",
    "best_val_loss = np.inf\n",
    "\n",
    "for e in range(40):\n",
    "    train_losses = []\n",
    "    val_losses = []\n",
    "    \n",
    "    for uid, iid, rating, poster in dataloaders[\"train\"]:\n",
    "        # Set gradients to zero\n",
    "        optimizer.zero_grad()\n",
    "        rating_hat = model(uid.to(torch.long), iid.to(torch.long), poster)\n",
    "        loss = loss_func(rating_hat, rating.to(torch.float))\n",
    "\n",
    "        # Backpropagate\n",
    "        loss.backward()\n",
    "\n",
    "        # Update the parameters\n",
    "        optimizer.step()\n",
    "        train_losses.append(float(loss))\n",
    "    \n",
    "    for uid, iid, rating, poster in dataloaders[\"test\"]:\n",
    "        ating_hat = model(uid.to(torch.long), iid.to(torch.long), poster)\n",
    "        loss = loss_func(rating_hat, rating.to(torch.float))\n",
    "        val_losses.append(float(loss))\n",
    "        \n",
    "    train_loss.append(np.sqrt(np.mean(train_losses)))\n",
    "    val_loss.append(np.sqrt(np.mean(val_losses)))\n",
    "    print(f\"Epoch {e + 1} | Training loss: {train_loss[-1]} | Validation loss: {val_loss[-1]}\")\n",
    "    \n",
    "    if val_loss[-1] < best_val_loss:\n",
    "        torch.save(model.state_dict(), './model_checkpoints/best-model-parameters.pt') # official recommended\n",
    "        best_val_loss = val_loss[-1]"
   ]
  },
  {
   "cell_type": "code",
   "execution_count": null,
   "id": "cc1fbeff",
   "metadata": {},
   "outputs": [],
   "source": []
  },
  {
   "cell_type": "code",
   "execution_count": null,
   "id": "18f6451d",
   "metadata": {},
   "outputs": [],
   "source": []
  },
  {
   "cell_type": "code",
   "execution_count": null,
   "id": "b8690080",
   "metadata": {},
   "outputs": [],
   "source": []
  },
  {
   "cell_type": "code",
   "execution_count": null,
   "id": "34e46fd6",
   "metadata": {},
   "outputs": [],
   "source": []
  },
  {
   "cell_type": "code",
   "execution_count": null,
   "id": "7cb4fb36",
   "metadata": {},
   "outputs": [],
   "source": []
  }
 ],
 "metadata": {
  "kernelspec": {
   "display_name": "Python 3 (ipykernel)",
   "language": "python",
   "name": "python3"
  },
  "language_info": {
   "codemirror_mode": {
    "name": "ipython",
    "version": 3
   },
   "file_extension": ".py",
   "mimetype": "text/x-python",
   "name": "python",
   "nbconvert_exporter": "python",
   "pygments_lexer": "ipython3",
   "version": "3.9.16"
  }
 },
 "nbformat": 4,
 "nbformat_minor": 5
}
