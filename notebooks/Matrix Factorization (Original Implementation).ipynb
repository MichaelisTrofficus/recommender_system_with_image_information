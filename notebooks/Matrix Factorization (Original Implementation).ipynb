{
 "cells": [
  {
   "cell_type": "markdown",
   "id": "96ce29d1",
   "metadata": {},
   "source": [
    "We are going to start with a simple implementation of Matrix Factorization without any kind baselines using PyTorch."
   ]
  },
  {
   "cell_type": "code",
   "execution_count": 4,
   "id": "5c9adbd0",
   "metadata": {},
   "outputs": [],
   "source": [
    "import os\n",
    "import random\n",
    "import matplotlib.pyplot as plt\n",
    "import scienceplots\n",
    "import numpy as np\n",
    "import pandas as pd\n",
    "import torch\n",
    "\n",
    "from surprise import Dataset, Reader\n",
    "\n",
    "def set_df_to_index_based(df):\n",
    "    \"\"\"\n",
    "    Transforms the Movielens Index into Python indices for PyTorch embeddings computation\n",
    "    \"\"\"\n",
    "    df = df.astype({\"uid\": \"int64\", \"iid\": \"int64\"})\n",
    "    df[\"uid\"] = df[\"uid\"] - 1\n",
    "    df[\"iid\"] = df[\"iid\"] - 1\n",
    "    return df\n",
    "\n",
    "# Define a random state so that the train test splits can be reproducible\n",
    "RANDOM_STATE = 128\n",
    "\n",
    "# Add this path to use SciencePlots (it uses latex)\n",
    "os.environ[\"PATH\"] += os.pathsep + \"/Library/TeX/texbin\"\n",
    "\n",
    "plt.rcParams[\"figure.figsize\"] = (100,100)\n",
    "plt.style.use(['science', 'notebook'])\n",
    "\n",
    "# Problem Specific constants\n",
    "N_USERS = 943\n",
    "N_ITEMS = 1682\n",
    "N_FACTORS = 100 "
   ]
  },
  {
   "cell_type": "markdown",
   "id": "99e47876",
   "metadata": {},
   "source": [
    "### Generate train and test sets"
   ]
  },
  {
   "cell_type": "code",
   "execution_count": 3,
   "id": "918341bd",
   "metadata": {},
   "outputs": [],
   "source": [
    "# path to dataset file\n",
    "file_path = \"../ml-100k/u.data\"\n",
    "reader = Reader(line_format=\"user item rating timestamp\", sep=\"\\t\")\n",
    "data = Dataset.load_from_file(file_path, reader=reader)\n",
    "\n",
    "# Get raw ratings from `Dataset` object\n",
    "raw_ratings = data.raw_ratings\n",
    "\n",
    "# Shuffle the raw ratings and select train and test splits (75 % / 25 %)\n",
    "random.Random(RANDOM_STATE).shuffle(raw_ratings)\n",
    "threshold = int(0.75 * len(raw_ratings))\n",
    "train_raw_ratings = raw_ratings[:threshold]\n",
    "test_raw_ratings = raw_ratings[threshold:]"
   ]
  },
  {
   "cell_type": "code",
   "execution_count": 4,
   "id": "08decf6a",
   "metadata": {},
   "outputs": [],
   "source": [
    "# Transform surprise based objects to pandas dataframes\n",
    "df_train = pd.DataFrame.from_records(train_raw_ratings, columns=[\"uid\", \"iid\", \"rating\", \"timestamp\"])\n",
    "df_test = pd.DataFrame.from_records(test_raw_ratings, columns=[\"uid\", \"iid\", \"rating\", \"timestamp\"])"
   ]
  },
  {
   "cell_type": "code",
   "execution_count": 5,
   "id": "da1a90e3",
   "metadata": {},
   "outputs": [
    {
     "data": {
      "text/html": [
       "<div>\n",
       "<style scoped>\n",
       "    .dataframe tbody tr th:only-of-type {\n",
       "        vertical-align: middle;\n",
       "    }\n",
       "\n",
       "    .dataframe tbody tr th {\n",
       "        vertical-align: top;\n",
       "    }\n",
       "\n",
       "    .dataframe thead th {\n",
       "        text-align: right;\n",
       "    }\n",
       "</style>\n",
       "<table border=\"1\" class=\"dataframe\">\n",
       "  <thead>\n",
       "    <tr style=\"text-align: right;\">\n",
       "      <th></th>\n",
       "      <th>uid</th>\n",
       "      <th>iid</th>\n",
       "      <th>rating</th>\n",
       "      <th>timestamp</th>\n",
       "    </tr>\n",
       "  </thead>\n",
       "  <tbody>\n",
       "    <tr>\n",
       "      <th>0</th>\n",
       "      <td>194</td>\n",
       "      <td>423</td>\n",
       "      <td>3.0</td>\n",
       "      <td>879548121</td>\n",
       "    </tr>\n",
       "    <tr>\n",
       "      <th>1</th>\n",
       "      <td>104</td>\n",
       "      <td>333</td>\n",
       "      <td>2.0</td>\n",
       "      <td>888442305</td>\n",
       "    </tr>\n",
       "    <tr>\n",
       "      <th>2</th>\n",
       "      <td>41</td>\n",
       "      <td>174</td>\n",
       "      <td>4.0</td>\n",
       "      <td>890687264</td>\n",
       "    </tr>\n",
       "    <tr>\n",
       "      <th>3</th>\n",
       "      <td>489</td>\n",
       "      <td>751</td>\n",
       "      <td>5.0</td>\n",
       "      <td>891362773</td>\n",
       "    </tr>\n",
       "    <tr>\n",
       "      <th>4</th>\n",
       "      <td>593</td>\n",
       "      <td>288</td>\n",
       "      <td>4.0</td>\n",
       "      <td>877728878</td>\n",
       "    </tr>\n",
       "  </tbody>\n",
       "</table>\n",
       "</div>"
      ],
      "text/plain": [
       "   uid  iid  rating  timestamp\n",
       "0  194  423     3.0  879548121\n",
       "1  104  333     2.0  888442305\n",
       "2   41  174     4.0  890687264\n",
       "3  489  751     5.0  891362773\n",
       "4  593  288     4.0  877728878"
      ]
     },
     "execution_count": 5,
     "metadata": {},
     "output_type": "execute_result"
    }
   ],
   "source": [
    "df_train.head()"
   ]
  },
  {
   "cell_type": "code",
   "execution_count": 6,
   "id": "8119ae4a",
   "metadata": {},
   "outputs": [],
   "source": [
    "df_train = set_df_to_index_based(df_train)"
   ]
  },
  {
   "cell_type": "code",
   "execution_count": 7,
   "id": "9cfc0238",
   "metadata": {
    "scrolled": true
   },
   "outputs": [
    {
     "data": {
      "text/html": [
       "<div>\n",
       "<style scoped>\n",
       "    .dataframe tbody tr th:only-of-type {\n",
       "        vertical-align: middle;\n",
       "    }\n",
       "\n",
       "    .dataframe tbody tr th {\n",
       "        vertical-align: top;\n",
       "    }\n",
       "\n",
       "    .dataframe thead th {\n",
       "        text-align: right;\n",
       "    }\n",
       "</style>\n",
       "<table border=\"1\" class=\"dataframe\">\n",
       "  <thead>\n",
       "    <tr style=\"text-align: right;\">\n",
       "      <th></th>\n",
       "      <th>uid</th>\n",
       "      <th>iid</th>\n",
       "      <th>rating</th>\n",
       "      <th>timestamp</th>\n",
       "    </tr>\n",
       "  </thead>\n",
       "  <tbody>\n",
       "    <tr>\n",
       "      <th>0</th>\n",
       "      <td>193</td>\n",
       "      <td>422</td>\n",
       "      <td>3.0</td>\n",
       "      <td>879548121</td>\n",
       "    </tr>\n",
       "    <tr>\n",
       "      <th>1</th>\n",
       "      <td>103</td>\n",
       "      <td>332</td>\n",
       "      <td>2.0</td>\n",
       "      <td>888442305</td>\n",
       "    </tr>\n",
       "    <tr>\n",
       "      <th>2</th>\n",
       "      <td>40</td>\n",
       "      <td>173</td>\n",
       "      <td>4.0</td>\n",
       "      <td>890687264</td>\n",
       "    </tr>\n",
       "    <tr>\n",
       "      <th>3</th>\n",
       "      <td>488</td>\n",
       "      <td>750</td>\n",
       "      <td>5.0</td>\n",
       "      <td>891362773</td>\n",
       "    </tr>\n",
       "    <tr>\n",
       "      <th>4</th>\n",
       "      <td>592</td>\n",
       "      <td>287</td>\n",
       "      <td>4.0</td>\n",
       "      <td>877728878</td>\n",
       "    </tr>\n",
       "  </tbody>\n",
       "</table>\n",
       "</div>"
      ],
      "text/plain": [
       "   uid  iid  rating  timestamp\n",
       "0  193  422     3.0  879548121\n",
       "1  103  332     2.0  888442305\n",
       "2   40  173     4.0  890687264\n",
       "3  488  750     5.0  891362773\n",
       "4  592  287     4.0  877728878"
      ]
     },
     "execution_count": 7,
     "metadata": {},
     "output_type": "execute_result"
    }
   ],
   "source": [
    "df_train.head()"
   ]
  },
  {
   "cell_type": "code",
   "execution_count": 8,
   "id": "b0920d38",
   "metadata": {},
   "outputs": [
    {
     "data": {
      "text/html": [
       "<div>\n",
       "<style scoped>\n",
       "    .dataframe tbody tr th:only-of-type {\n",
       "        vertical-align: middle;\n",
       "    }\n",
       "\n",
       "    .dataframe tbody tr th {\n",
       "        vertical-align: top;\n",
       "    }\n",
       "\n",
       "    .dataframe thead th {\n",
       "        text-align: right;\n",
       "    }\n",
       "</style>\n",
       "<table border=\"1\" class=\"dataframe\">\n",
       "  <thead>\n",
       "    <tr style=\"text-align: right;\">\n",
       "      <th></th>\n",
       "      <th>uid</th>\n",
       "      <th>iid</th>\n",
       "      <th>rating</th>\n",
       "      <th>timestamp</th>\n",
       "    </tr>\n",
       "  </thead>\n",
       "  <tbody>\n",
       "    <tr>\n",
       "      <th>0</th>\n",
       "      <td>5</td>\n",
       "      <td>24</td>\n",
       "      <td>4.0</td>\n",
       "      <td>879198229</td>\n",
       "    </tr>\n",
       "    <tr>\n",
       "      <th>1</th>\n",
       "      <td>716</td>\n",
       "      <td>501</td>\n",
       "      <td>5.0</td>\n",
       "      <td>879796215</td>\n",
       "    </tr>\n",
       "    <tr>\n",
       "      <th>2</th>\n",
       "      <td>590</td>\n",
       "      <td>476</td>\n",
       "      <td>3.0</td>\n",
       "      <td>879439345</td>\n",
       "    </tr>\n",
       "    <tr>\n",
       "      <th>3</th>\n",
       "      <td>601</td>\n",
       "      <td>98</td>\n",
       "      <td>3.0</td>\n",
       "      <td>876348526</td>\n",
       "    </tr>\n",
       "    <tr>\n",
       "      <th>4</th>\n",
       "      <td>896</td>\n",
       "      <td>1672</td>\n",
       "      <td>2.0</td>\n",
       "      <td>887159554</td>\n",
       "    </tr>\n",
       "  </tbody>\n",
       "</table>\n",
       "</div>"
      ],
      "text/plain": [
       "   uid   iid  rating  timestamp\n",
       "0    5    24     4.0  879198229\n",
       "1  716   501     5.0  879796215\n",
       "2  590   476     3.0  879439345\n",
       "3  601    98     3.0  876348526\n",
       "4  896  1672     2.0  887159554"
      ]
     },
     "execution_count": 8,
     "metadata": {},
     "output_type": "execute_result"
    }
   ],
   "source": [
    "df_test.head()"
   ]
  },
  {
   "cell_type": "code",
   "execution_count": 9,
   "id": "5f900b7c",
   "metadata": {},
   "outputs": [],
   "source": [
    "df_test = set_df_to_index_based(df_test)"
   ]
  },
  {
   "cell_type": "code",
   "execution_count": 10,
   "id": "a6b2ee22",
   "metadata": {},
   "outputs": [
    {
     "data": {
      "text/html": [
       "<div>\n",
       "<style scoped>\n",
       "    .dataframe tbody tr th:only-of-type {\n",
       "        vertical-align: middle;\n",
       "    }\n",
       "\n",
       "    .dataframe tbody tr th {\n",
       "        vertical-align: top;\n",
       "    }\n",
       "\n",
       "    .dataframe thead th {\n",
       "        text-align: right;\n",
       "    }\n",
       "</style>\n",
       "<table border=\"1\" class=\"dataframe\">\n",
       "  <thead>\n",
       "    <tr style=\"text-align: right;\">\n",
       "      <th></th>\n",
       "      <th>uid</th>\n",
       "      <th>iid</th>\n",
       "      <th>rating</th>\n",
       "      <th>timestamp</th>\n",
       "    </tr>\n",
       "  </thead>\n",
       "  <tbody>\n",
       "    <tr>\n",
       "      <th>0</th>\n",
       "      <td>4</td>\n",
       "      <td>23</td>\n",
       "      <td>4.0</td>\n",
       "      <td>879198229</td>\n",
       "    </tr>\n",
       "    <tr>\n",
       "      <th>1</th>\n",
       "      <td>715</td>\n",
       "      <td>500</td>\n",
       "      <td>5.0</td>\n",
       "      <td>879796215</td>\n",
       "    </tr>\n",
       "    <tr>\n",
       "      <th>2</th>\n",
       "      <td>589</td>\n",
       "      <td>475</td>\n",
       "      <td>3.0</td>\n",
       "      <td>879439345</td>\n",
       "    </tr>\n",
       "    <tr>\n",
       "      <th>3</th>\n",
       "      <td>600</td>\n",
       "      <td>97</td>\n",
       "      <td>3.0</td>\n",
       "      <td>876348526</td>\n",
       "    </tr>\n",
       "    <tr>\n",
       "      <th>4</th>\n",
       "      <td>895</td>\n",
       "      <td>1671</td>\n",
       "      <td>2.0</td>\n",
       "      <td>887159554</td>\n",
       "    </tr>\n",
       "  </tbody>\n",
       "</table>\n",
       "</div>"
      ],
      "text/plain": [
       "   uid   iid  rating  timestamp\n",
       "0    4    23     4.0  879198229\n",
       "1  715   500     5.0  879796215\n",
       "2  589   475     3.0  879439345\n",
       "3  600    97     3.0  876348526\n",
       "4  895  1671     2.0  887159554"
      ]
     },
     "execution_count": 10,
     "metadata": {},
     "output_type": "execute_result"
    }
   ],
   "source": [
    "df_test.head()"
   ]
  },
  {
   "cell_type": "code",
   "execution_count": 11,
   "id": "c3aae0ec",
   "metadata": {},
   "outputs": [],
   "source": [
    "df_train.to_csv(\"../data/df_train.csv\", header=True, index=False)\n",
    "df_test.to_csv(\"../data/df_test.csv\", header=True, index=False)"
   ]
  },
  {
   "cell_type": "markdown",
   "id": "8851ac57",
   "metadata": {},
   "source": [
    "### Import generated train and test sets"
   ]
  },
  {
   "cell_type": "code",
   "execution_count": 5,
   "id": "f3e9027b",
   "metadata": {},
   "outputs": [],
   "source": [
    "df_train = pd.read_csv(\"../data/df_train.csv\")\n",
    "df_test = pd.read_csv(\"../data/df_test.csv\")"
   ]
  },
  {
   "cell_type": "code",
   "execution_count": 6,
   "id": "c29cbdc8",
   "metadata": {
    "scrolled": true
   },
   "outputs": [
    {
     "data": {
      "text/html": [
       "<div>\n",
       "<style scoped>\n",
       "    .dataframe tbody tr th:only-of-type {\n",
       "        vertical-align: middle;\n",
       "    }\n",
       "\n",
       "    .dataframe tbody tr th {\n",
       "        vertical-align: top;\n",
       "    }\n",
       "\n",
       "    .dataframe thead th {\n",
       "        text-align: right;\n",
       "    }\n",
       "</style>\n",
       "<table border=\"1\" class=\"dataframe\">\n",
       "  <thead>\n",
       "    <tr style=\"text-align: right;\">\n",
       "      <th></th>\n",
       "      <th>uid</th>\n",
       "      <th>iid</th>\n",
       "      <th>rating</th>\n",
       "      <th>timestamp</th>\n",
       "    </tr>\n",
       "  </thead>\n",
       "  <tbody>\n",
       "    <tr>\n",
       "      <th>0</th>\n",
       "      <td>193</td>\n",
       "      <td>422</td>\n",
       "      <td>3.0</td>\n",
       "      <td>879548121</td>\n",
       "    </tr>\n",
       "    <tr>\n",
       "      <th>1</th>\n",
       "      <td>103</td>\n",
       "      <td>332</td>\n",
       "      <td>2.0</td>\n",
       "      <td>888442305</td>\n",
       "    </tr>\n",
       "    <tr>\n",
       "      <th>2</th>\n",
       "      <td>40</td>\n",
       "      <td>173</td>\n",
       "      <td>4.0</td>\n",
       "      <td>890687264</td>\n",
       "    </tr>\n",
       "    <tr>\n",
       "      <th>3</th>\n",
       "      <td>488</td>\n",
       "      <td>750</td>\n",
       "      <td>5.0</td>\n",
       "      <td>891362773</td>\n",
       "    </tr>\n",
       "    <tr>\n",
       "      <th>4</th>\n",
       "      <td>592</td>\n",
       "      <td>287</td>\n",
       "      <td>4.0</td>\n",
       "      <td>877728878</td>\n",
       "    </tr>\n",
       "  </tbody>\n",
       "</table>\n",
       "</div>"
      ],
      "text/plain": [
       "   uid  iid  rating  timestamp\n",
       "0  193  422     3.0  879548121\n",
       "1  103  332     2.0  888442305\n",
       "2   40  173     4.0  890687264\n",
       "3  488  750     5.0  891362773\n",
       "4  592  287     4.0  877728878"
      ]
     },
     "execution_count": 6,
     "metadata": {},
     "output_type": "execute_result"
    }
   ],
   "source": [
    "df_train.head()"
   ]
  },
  {
   "cell_type": "code",
   "execution_count": 7,
   "id": "2c860ce0",
   "metadata": {},
   "outputs": [
    {
     "data": {
      "text/plain": [
       "uid            int64\n",
       "iid            int64\n",
       "rating       float64\n",
       "timestamp      int64\n",
       "dtype: object"
      ]
     },
     "execution_count": 7,
     "metadata": {},
     "output_type": "execute_result"
    }
   ],
   "source": [
    "df_train.dtypes"
   ]
  },
  {
   "cell_type": "code",
   "execution_count": 8,
   "id": "97cf4c36",
   "metadata": {
    "scrolled": true
   },
   "outputs": [
    {
     "data": {
      "text/html": [
       "<div>\n",
       "<style scoped>\n",
       "    .dataframe tbody tr th:only-of-type {\n",
       "        vertical-align: middle;\n",
       "    }\n",
       "\n",
       "    .dataframe tbody tr th {\n",
       "        vertical-align: top;\n",
       "    }\n",
       "\n",
       "    .dataframe thead th {\n",
       "        text-align: right;\n",
       "    }\n",
       "</style>\n",
       "<table border=\"1\" class=\"dataframe\">\n",
       "  <thead>\n",
       "    <tr style=\"text-align: right;\">\n",
       "      <th></th>\n",
       "      <th>uid</th>\n",
       "      <th>iid</th>\n",
       "      <th>rating</th>\n",
       "      <th>timestamp</th>\n",
       "    </tr>\n",
       "  </thead>\n",
       "  <tbody>\n",
       "    <tr>\n",
       "      <th>0</th>\n",
       "      <td>4</td>\n",
       "      <td>23</td>\n",
       "      <td>4.0</td>\n",
       "      <td>879198229</td>\n",
       "    </tr>\n",
       "    <tr>\n",
       "      <th>1</th>\n",
       "      <td>715</td>\n",
       "      <td>500</td>\n",
       "      <td>5.0</td>\n",
       "      <td>879796215</td>\n",
       "    </tr>\n",
       "    <tr>\n",
       "      <th>2</th>\n",
       "      <td>589</td>\n",
       "      <td>475</td>\n",
       "      <td>3.0</td>\n",
       "      <td>879439345</td>\n",
       "    </tr>\n",
       "    <tr>\n",
       "      <th>3</th>\n",
       "      <td>600</td>\n",
       "      <td>97</td>\n",
       "      <td>3.0</td>\n",
       "      <td>876348526</td>\n",
       "    </tr>\n",
       "    <tr>\n",
       "      <th>4</th>\n",
       "      <td>895</td>\n",
       "      <td>1671</td>\n",
       "      <td>2.0</td>\n",
       "      <td>887159554</td>\n",
       "    </tr>\n",
       "  </tbody>\n",
       "</table>\n",
       "</div>"
      ],
      "text/plain": [
       "   uid   iid  rating  timestamp\n",
       "0    4    23     4.0  879198229\n",
       "1  715   500     5.0  879796215\n",
       "2  589   475     3.0  879439345\n",
       "3  600    97     3.0  876348526\n",
       "4  895  1671     2.0  887159554"
      ]
     },
     "execution_count": 8,
     "metadata": {},
     "output_type": "execute_result"
    }
   ],
   "source": [
    "df_test.head()"
   ]
  },
  {
   "cell_type": "code",
   "execution_count": 9,
   "id": "b207d4ff",
   "metadata": {},
   "outputs": [
    {
     "data": {
      "text/plain": [
       "uid            int64\n",
       "iid            int64\n",
       "rating       float64\n",
       "timestamp      int64\n",
       "dtype: object"
      ]
     },
     "execution_count": 9,
     "metadata": {},
     "output_type": "execute_result"
    }
   ],
   "source": [
    "df_test.dtypes"
   ]
  },
  {
   "cell_type": "code",
   "execution_count": 10,
   "id": "201df553",
   "metadata": {},
   "outputs": [],
   "source": [
    "train_arr = df_train.values\n",
    "test_arr = df_test.values"
   ]
  },
  {
   "cell_type": "code",
   "execution_count": 11,
   "id": "486d73b2",
   "metadata": {},
   "outputs": [
    {
     "data": {
      "text/plain": [
       "array([[1.93000000e+02, 4.22000000e+02, 3.00000000e+00, 8.79548121e+08],\n",
       "       [1.03000000e+02, 3.32000000e+02, 2.00000000e+00, 8.88442305e+08],\n",
       "       [4.00000000e+01, 1.73000000e+02, 4.00000000e+00, 8.90687264e+08]])"
      ]
     },
     "execution_count": 11,
     "metadata": {},
     "output_type": "execute_result"
    }
   ],
   "source": [
    "train_arr[:3]"
   ]
  },
  {
   "cell_type": "markdown",
   "id": "7bdb4c7e",
   "metadata": {},
   "source": [
    "### MF without baselines"
   ]
  },
  {
   "cell_type": "code",
   "execution_count": 12,
   "id": "15665602",
   "metadata": {},
   "outputs": [],
   "source": [
    "class MatrixFactorization(torch.nn.Module):\n",
    "    def __init__(self, n_users, n_items, n_factors=100):\n",
    "        super().__init__()\n",
    "        self.user_factors = torch.nn.Embedding(n_users, n_factors)\n",
    "        self.item_factors = torch.nn.Embedding(n_items, n_factors)\n",
    "    \n",
    "    def forward(self, user, item):\n",
    "        return torch.dot(self.user_factors(user)[0], self.item_factors(item)[0])"
   ]
  },
  {
   "cell_type": "code",
   "execution_count": 13,
   "id": "70002177",
   "metadata": {},
   "outputs": [],
   "source": [
    "model = MatrixFactorization(N_USERS, N_ITEMS, n_factors=N_FACTORS)"
   ]
  },
  {
   "cell_type": "code",
   "execution_count": 14,
   "id": "1d69a2bc",
   "metadata": {},
   "outputs": [],
   "source": [
    "loss_func = torch.nn.MSELoss()\n",
    "optimizer = torch.optim.SGD(model.parameters(), lr=0.001)"
   ]
  },
  {
   "cell_type": "code",
   "execution_count": 16,
   "id": "866f0260",
   "metadata": {},
   "outputs": [
    {
     "name": "stderr",
     "output_type": "stream",
     "text": [
      "/var/folders/0z/314w_11n5h1fxjpbcbg88xl40000gp/T/ipykernel_29019/2253574187.py:7: DeprecationWarning: an integer is required (got type numpy.float64).  Implicit conversion to integers using __int__ is deprecated, and may be removed in a future version of Python.\n",
      "  uid = torch.LongTensor([interaction[0]])\n",
      "/var/folders/0z/314w_11n5h1fxjpbcbg88xl40000gp/T/ipykernel_29019/2253574187.py:8: DeprecationWarning: an integer is required (got type numpy.float64).  Implicit conversion to integers using __int__ is deprecated, and may be removed in a future version of Python.\n",
      "  iid = torch.LongTensor([interaction[1]])\n"
     ]
    },
    {
     "name": "stdout",
     "output_type": "stream",
     "text": [
      "-1.3763679265975952 3.0\n",
      "18.678148506933\n",
      "-0.5110791921615601 3.0\n",
      "9.97163856405116\n",
      "0.0740247368812561 3.0\n",
      "6.243807148733473\n",
      "0.4678950905799866 3.0\n",
      "4.340074148541971\n",
      "0.7513111233711243 3.0\n",
      "3.2362368476229526\n",
      "0.9718310236930847 3.0\n",
      "2.53661331903631\n",
      "1.1541986465454102 3.0\n",
      "2.063295223851057\n",
      "1.310887336730957 3.0\n",
      "1.7267331345520889\n",
      "1.4483671188354492 3.0\n",
      "1.477839172643969\n",
      "1.5702874660491943 3.0\n",
      "1.2878527026050977\n",
      "1.6790037155151367 3.0\n",
      "1.1389981501069297\n",
      "1.7762291431427002 3.0\n",
      "1.0197961978025207\n",
      "1.8633568286895752 3.0\n",
      "0.9225561234628455\n",
      "1.941561222076416 3.0\n",
      "0.8419619365242246\n",
      "2.01187801361084 3.0\n",
      "0.7742388595543321\n",
      "2.0752124786376953 3.0\n",
      "0.7166431872082812\n",
      "2.1323513984680176 3.0\n",
      "0.6671392323364135\n",
      "2.1839938163757324 3.0\n",
      "0.6241889512010361\n",
      "2.230754852294922 3.0\n",
      "0.5866113728424904\n",
      "2.27315616607666 3.0\n",
      "0.5534864734516612\n"
     ]
    }
   ],
   "source": [
    "for e in range(20):\n",
    "    losses = []\n",
    "    for interaction in train_arr:\n",
    "        # Set gradients to zero\n",
    "        optimizer.zero_grad()\n",
    "\n",
    "        uid = torch.LongTensor([interaction[0]])\n",
    "        iid = torch.LongTensor([interaction[1]])\n",
    "        rating = torch.FloatTensor([interaction[2]])\n",
    "\n",
    "        rating_hat = model(uid, iid)\n",
    "        \n",
    "        loss = loss_func(rating_hat, rating)\n",
    "\n",
    "        # Backpropagate\n",
    "        loss.backward()\n",
    "\n",
    "        # Update the parameters\n",
    "        optimizer.step()\n",
    "        losses.append(float(loss))\n",
    "    print(float(rating_hat), float(rating))\n",
    "    print(np.mean(losses))"
   ]
  },
  {
   "cell_type": "code",
   "execution_count": null,
   "id": "05d6b461",
   "metadata": {},
   "outputs": [],
   "source": []
  }
 ],
 "metadata": {
  "kernelspec": {
   "display_name": "Python 3 (ipykernel)",
   "language": "python",
   "name": "python3"
  },
  "language_info": {
   "codemirror_mode": {
    "name": "ipython",
    "version": 3
   },
   "file_extension": ".py",
   "mimetype": "text/x-python",
   "name": "python",
   "nbconvert_exporter": "python",
   "pygments_lexer": "ipython3",
   "version": "3.9.13"
  }
 },
 "nbformat": 4,
 "nbformat_minor": 5
}
