{
 "cells": [
  {
   "cell_type": "markdown",
   "id": "96ce29d1",
   "metadata": {},
   "source": [
    "We are going to start with a simple implementation of Matrix Factorization without any kind baselines using PyTorch."
   ]
  },
  {
   "cell_type": "code",
   "execution_count": 1,
   "id": "5c9adbd0",
   "metadata": {},
   "outputs": [],
   "source": [
    "import os\n",
    "import random\n",
    "import matplotlib.pyplot as plt\n",
    "import scienceplots\n",
    "import numpy as np\n",
    "import pandas as pd\n",
    "import torch\n",
    "\n",
    "from surprise import Dataset, Reader\n",
    "\n",
    "def set_df_to_index_based(df):\n",
    "    \"\"\"\n",
    "    Transforms the Movielens Index into Python indices for PyTorch embeddings computation\n",
    "    \"\"\"\n",
    "    df = df.astype({\"uid\": \"int64\", \"iid\": \"int64\"})\n",
    "    df[\"uid\"] = df[\"uid\"] - 1\n",
    "    df[\"iid\"] = df[\"iid\"] - 1\n",
    "    return df\n",
    "\n",
    "# Define a random state so that the train test splits can be reproducible\n",
    "RANDOM_STATE = 128\n",
    "\n",
    "# Add this path to use SciencePlots (it uses latex)\n",
    "os.environ[\"PATH\"] += os.pathsep + \"/Library/TeX/texbin\"\n",
    "\n",
    "plt.rcParams[\"figure.figsize\"] = (100,100)\n",
    "plt.style.use(['science', 'notebook'])\n",
    "\n",
    "# Problem Specific constants\n",
    "N_USERS = 943\n",
    "N_ITEMS = 1682\n",
    "N_FACTORS = 100 "
   ]
  },
  {
   "cell_type": "markdown",
   "id": "99e47876",
   "metadata": {},
   "source": [
    "### Generate train and test sets"
   ]
  },
  {
   "cell_type": "code",
   "execution_count": 2,
   "id": "918341bd",
   "metadata": {},
   "outputs": [],
   "source": [
    "# path to dataset file\n",
    "file_path = \"../ml-100k/u.data\"\n",
    "reader = Reader(line_format=\"user item rating timestamp\", sep=\"\\t\")\n",
    "data = Dataset.load_from_file(file_path, reader=reader)\n",
    "\n",
    "# Get raw ratings from `Dataset` object\n",
    "raw_ratings = data.raw_ratings\n",
    "\n",
    "# Shuffle the raw ratings and select train and test splits (75 % / 25 %)\n",
    "random.Random(RANDOM_STATE).shuffle(raw_ratings)\n",
    "threshold = int(0.75 * len(raw_ratings))\n",
    "train_raw_ratings = raw_ratings[:threshold]\n",
    "test_raw_ratings = raw_ratings[threshold:]\n",
    "\n",
    "threshold_val = int(0.20 * len(train_raw_ratings))\n",
    "val_raw_ratings = train_raw_ratings[:threshold_val]\n",
    "train_raw_ratings = train_raw_ratings[threshold_val:]"
   ]
  },
  {
   "cell_type": "code",
   "execution_count": 3,
   "id": "08decf6a",
   "metadata": {},
   "outputs": [],
   "source": [
    "# Transform surprise based objects to pandas dataframes\n",
    "df_train = pd.DataFrame.from_records(train_raw_ratings, columns=[\"uid\", \"iid\", \"rating\", \"timestamp\"])\n",
    "df_val = pd.DataFrame.from_records(val_raw_ratings, columns=[\"uid\", \"iid\", \"rating\", \"timestamp\"])\n",
    "df_test = pd.DataFrame.from_records(test_raw_ratings, columns=[\"uid\", \"iid\", \"rating\", \"timestamp\"])"
   ]
  },
  {
   "cell_type": "code",
   "execution_count": 4,
   "id": "da1a90e3",
   "metadata": {},
   "outputs": [
    {
     "data": {
      "text/html": [
       "<div>\n",
       "<style scoped>\n",
       "    .dataframe tbody tr th:only-of-type {\n",
       "        vertical-align: middle;\n",
       "    }\n",
       "\n",
       "    .dataframe tbody tr th {\n",
       "        vertical-align: top;\n",
       "    }\n",
       "\n",
       "    .dataframe thead th {\n",
       "        text-align: right;\n",
       "    }\n",
       "</style>\n",
       "<table border=\"1\" class=\"dataframe\">\n",
       "  <thead>\n",
       "    <tr style=\"text-align: right;\">\n",
       "      <th></th>\n",
       "      <th>uid</th>\n",
       "      <th>iid</th>\n",
       "      <th>rating</th>\n",
       "      <th>timestamp</th>\n",
       "    </tr>\n",
       "  </thead>\n",
       "  <tbody>\n",
       "    <tr>\n",
       "      <th>0</th>\n",
       "      <td>497</td>\n",
       "      <td>53</td>\n",
       "      <td>3.0</td>\n",
       "      <td>879362178</td>\n",
       "    </tr>\n",
       "    <tr>\n",
       "      <th>1</th>\n",
       "      <td>123</td>\n",
       "      <td>165</td>\n",
       "      <td>5.0</td>\n",
       "      <td>879872672</td>\n",
       "    </tr>\n",
       "    <tr>\n",
       "      <th>2</th>\n",
       "      <td>873</td>\n",
       "      <td>348</td>\n",
       "      <td>3.0</td>\n",
       "      <td>891392577</td>\n",
       "    </tr>\n",
       "    <tr>\n",
       "      <th>3</th>\n",
       "      <td>790</td>\n",
       "      <td>249</td>\n",
       "      <td>3.0</td>\n",
       "      <td>884461849</td>\n",
       "    </tr>\n",
       "    <tr>\n",
       "      <th>4</th>\n",
       "      <td>372</td>\n",
       "      <td>100</td>\n",
       "      <td>3.0</td>\n",
       "      <td>876869388</td>\n",
       "    </tr>\n",
       "  </tbody>\n",
       "</table>\n",
       "</div>"
      ],
      "text/plain": [
       "   uid  iid  rating  timestamp\n",
       "0  497   53     3.0  879362178\n",
       "1  123  165     5.0  879872672\n",
       "2  873  348     3.0  891392577\n",
       "3  790  249     3.0  884461849\n",
       "4  372  100     3.0  876869388"
      ]
     },
     "execution_count": 4,
     "metadata": {},
     "output_type": "execute_result"
    }
   ],
   "source": [
    "df_train.head()"
   ]
  },
  {
   "cell_type": "code",
   "execution_count": 5,
   "id": "8119ae4a",
   "metadata": {},
   "outputs": [],
   "source": [
    "df_train = set_df_to_index_based(df_train)"
   ]
  },
  {
   "cell_type": "code",
   "execution_count": 6,
   "id": "9cfc0238",
   "metadata": {
    "scrolled": false
   },
   "outputs": [
    {
     "data": {
      "text/html": [
       "<div>\n",
       "<style scoped>\n",
       "    .dataframe tbody tr th:only-of-type {\n",
       "        vertical-align: middle;\n",
       "    }\n",
       "\n",
       "    .dataframe tbody tr th {\n",
       "        vertical-align: top;\n",
       "    }\n",
       "\n",
       "    .dataframe thead th {\n",
       "        text-align: right;\n",
       "    }\n",
       "</style>\n",
       "<table border=\"1\" class=\"dataframe\">\n",
       "  <thead>\n",
       "    <tr style=\"text-align: right;\">\n",
       "      <th></th>\n",
       "      <th>uid</th>\n",
       "      <th>iid</th>\n",
       "      <th>rating</th>\n",
       "      <th>timestamp</th>\n",
       "    </tr>\n",
       "  </thead>\n",
       "  <tbody>\n",
       "    <tr>\n",
       "      <th>0</th>\n",
       "      <td>496</td>\n",
       "      <td>52</td>\n",
       "      <td>3.0</td>\n",
       "      <td>879362178</td>\n",
       "    </tr>\n",
       "    <tr>\n",
       "      <th>1</th>\n",
       "      <td>122</td>\n",
       "      <td>164</td>\n",
       "      <td>5.0</td>\n",
       "      <td>879872672</td>\n",
       "    </tr>\n",
       "    <tr>\n",
       "      <th>2</th>\n",
       "      <td>872</td>\n",
       "      <td>347</td>\n",
       "      <td>3.0</td>\n",
       "      <td>891392577</td>\n",
       "    </tr>\n",
       "    <tr>\n",
       "      <th>3</th>\n",
       "      <td>789</td>\n",
       "      <td>248</td>\n",
       "      <td>3.0</td>\n",
       "      <td>884461849</td>\n",
       "    </tr>\n",
       "    <tr>\n",
       "      <th>4</th>\n",
       "      <td>371</td>\n",
       "      <td>99</td>\n",
       "      <td>3.0</td>\n",
       "      <td>876869388</td>\n",
       "    </tr>\n",
       "  </tbody>\n",
       "</table>\n",
       "</div>"
      ],
      "text/plain": [
       "   uid  iid  rating  timestamp\n",
       "0  496   52     3.0  879362178\n",
       "1  122  164     5.0  879872672\n",
       "2  872  347     3.0  891392577\n",
       "3  789  248     3.0  884461849\n",
       "4  371   99     3.0  876869388"
      ]
     },
     "execution_count": 6,
     "metadata": {},
     "output_type": "execute_result"
    }
   ],
   "source": [
    "df_train.head()"
   ]
  },
  {
   "cell_type": "code",
   "execution_count": 7,
   "id": "238054f2",
   "metadata": {
    "scrolled": true
   },
   "outputs": [
    {
     "data": {
      "text/html": [
       "<div>\n",
       "<style scoped>\n",
       "    .dataframe tbody tr th:only-of-type {\n",
       "        vertical-align: middle;\n",
       "    }\n",
       "\n",
       "    .dataframe tbody tr th {\n",
       "        vertical-align: top;\n",
       "    }\n",
       "\n",
       "    .dataframe thead th {\n",
       "        text-align: right;\n",
       "    }\n",
       "</style>\n",
       "<table border=\"1\" class=\"dataframe\">\n",
       "  <thead>\n",
       "    <tr style=\"text-align: right;\">\n",
       "      <th></th>\n",
       "      <th>uid</th>\n",
       "      <th>iid</th>\n",
       "      <th>rating</th>\n",
       "      <th>timestamp</th>\n",
       "    </tr>\n",
       "  </thead>\n",
       "  <tbody>\n",
       "    <tr>\n",
       "      <th>0</th>\n",
       "      <td>194</td>\n",
       "      <td>423</td>\n",
       "      <td>3.0</td>\n",
       "      <td>879548121</td>\n",
       "    </tr>\n",
       "    <tr>\n",
       "      <th>1</th>\n",
       "      <td>104</td>\n",
       "      <td>333</td>\n",
       "      <td>2.0</td>\n",
       "      <td>888442305</td>\n",
       "    </tr>\n",
       "    <tr>\n",
       "      <th>2</th>\n",
       "      <td>41</td>\n",
       "      <td>174</td>\n",
       "      <td>4.0</td>\n",
       "      <td>890687264</td>\n",
       "    </tr>\n",
       "    <tr>\n",
       "      <th>3</th>\n",
       "      <td>489</td>\n",
       "      <td>751</td>\n",
       "      <td>5.0</td>\n",
       "      <td>891362773</td>\n",
       "    </tr>\n",
       "    <tr>\n",
       "      <th>4</th>\n",
       "      <td>593</td>\n",
       "      <td>288</td>\n",
       "      <td>4.0</td>\n",
       "      <td>877728878</td>\n",
       "    </tr>\n",
       "  </tbody>\n",
       "</table>\n",
       "</div>"
      ],
      "text/plain": [
       "   uid  iid  rating  timestamp\n",
       "0  194  423     3.0  879548121\n",
       "1  104  333     2.0  888442305\n",
       "2   41  174     4.0  890687264\n",
       "3  489  751     5.0  891362773\n",
       "4  593  288     4.0  877728878"
      ]
     },
     "execution_count": 7,
     "metadata": {},
     "output_type": "execute_result"
    }
   ],
   "source": [
    "df_val.head()"
   ]
  },
  {
   "cell_type": "code",
   "execution_count": 8,
   "id": "d292be94",
   "metadata": {},
   "outputs": [],
   "source": [
    "df_val = set_df_to_index_based(df_val)"
   ]
  },
  {
   "cell_type": "code",
   "execution_count": 9,
   "id": "b0920d38",
   "metadata": {},
   "outputs": [
    {
     "data": {
      "text/html": [
       "<div>\n",
       "<style scoped>\n",
       "    .dataframe tbody tr th:only-of-type {\n",
       "        vertical-align: middle;\n",
       "    }\n",
       "\n",
       "    .dataframe tbody tr th {\n",
       "        vertical-align: top;\n",
       "    }\n",
       "\n",
       "    .dataframe thead th {\n",
       "        text-align: right;\n",
       "    }\n",
       "</style>\n",
       "<table border=\"1\" class=\"dataframe\">\n",
       "  <thead>\n",
       "    <tr style=\"text-align: right;\">\n",
       "      <th></th>\n",
       "      <th>uid</th>\n",
       "      <th>iid</th>\n",
       "      <th>rating</th>\n",
       "      <th>timestamp</th>\n",
       "    </tr>\n",
       "  </thead>\n",
       "  <tbody>\n",
       "    <tr>\n",
       "      <th>0</th>\n",
       "      <td>5</td>\n",
       "      <td>24</td>\n",
       "      <td>4.0</td>\n",
       "      <td>879198229</td>\n",
       "    </tr>\n",
       "    <tr>\n",
       "      <th>1</th>\n",
       "      <td>716</td>\n",
       "      <td>501</td>\n",
       "      <td>5.0</td>\n",
       "      <td>879796215</td>\n",
       "    </tr>\n",
       "    <tr>\n",
       "      <th>2</th>\n",
       "      <td>590</td>\n",
       "      <td>476</td>\n",
       "      <td>3.0</td>\n",
       "      <td>879439345</td>\n",
       "    </tr>\n",
       "    <tr>\n",
       "      <th>3</th>\n",
       "      <td>601</td>\n",
       "      <td>98</td>\n",
       "      <td>3.0</td>\n",
       "      <td>876348526</td>\n",
       "    </tr>\n",
       "    <tr>\n",
       "      <th>4</th>\n",
       "      <td>896</td>\n",
       "      <td>1672</td>\n",
       "      <td>2.0</td>\n",
       "      <td>887159554</td>\n",
       "    </tr>\n",
       "  </tbody>\n",
       "</table>\n",
       "</div>"
      ],
      "text/plain": [
       "   uid   iid  rating  timestamp\n",
       "0    5    24     4.0  879198229\n",
       "1  716   501     5.0  879796215\n",
       "2  590   476     3.0  879439345\n",
       "3  601    98     3.0  876348526\n",
       "4  896  1672     2.0  887159554"
      ]
     },
     "execution_count": 9,
     "metadata": {},
     "output_type": "execute_result"
    }
   ],
   "source": [
    "df_test.head()"
   ]
  },
  {
   "cell_type": "code",
   "execution_count": 10,
   "id": "5f900b7c",
   "metadata": {},
   "outputs": [],
   "source": [
    "df_test = set_df_to_index_based(df_test)"
   ]
  },
  {
   "cell_type": "code",
   "execution_count": 11,
   "id": "a6b2ee22",
   "metadata": {
    "scrolled": true
   },
   "outputs": [
    {
     "data": {
      "text/html": [
       "<div>\n",
       "<style scoped>\n",
       "    .dataframe tbody tr th:only-of-type {\n",
       "        vertical-align: middle;\n",
       "    }\n",
       "\n",
       "    .dataframe tbody tr th {\n",
       "        vertical-align: top;\n",
       "    }\n",
       "\n",
       "    .dataframe thead th {\n",
       "        text-align: right;\n",
       "    }\n",
       "</style>\n",
       "<table border=\"1\" class=\"dataframe\">\n",
       "  <thead>\n",
       "    <tr style=\"text-align: right;\">\n",
       "      <th></th>\n",
       "      <th>uid</th>\n",
       "      <th>iid</th>\n",
       "      <th>rating</th>\n",
       "      <th>timestamp</th>\n",
       "    </tr>\n",
       "  </thead>\n",
       "  <tbody>\n",
       "    <tr>\n",
       "      <th>0</th>\n",
       "      <td>4</td>\n",
       "      <td>23</td>\n",
       "      <td>4.0</td>\n",
       "      <td>879198229</td>\n",
       "    </tr>\n",
       "    <tr>\n",
       "      <th>1</th>\n",
       "      <td>715</td>\n",
       "      <td>500</td>\n",
       "      <td>5.0</td>\n",
       "      <td>879796215</td>\n",
       "    </tr>\n",
       "    <tr>\n",
       "      <th>2</th>\n",
       "      <td>589</td>\n",
       "      <td>475</td>\n",
       "      <td>3.0</td>\n",
       "      <td>879439345</td>\n",
       "    </tr>\n",
       "    <tr>\n",
       "      <th>3</th>\n",
       "      <td>600</td>\n",
       "      <td>97</td>\n",
       "      <td>3.0</td>\n",
       "      <td>876348526</td>\n",
       "    </tr>\n",
       "    <tr>\n",
       "      <th>4</th>\n",
       "      <td>895</td>\n",
       "      <td>1671</td>\n",
       "      <td>2.0</td>\n",
       "      <td>887159554</td>\n",
       "    </tr>\n",
       "  </tbody>\n",
       "</table>\n",
       "</div>"
      ],
      "text/plain": [
       "   uid   iid  rating  timestamp\n",
       "0    4    23     4.0  879198229\n",
       "1  715   500     5.0  879796215\n",
       "2  589   475     3.0  879439345\n",
       "3  600    97     3.0  876348526\n",
       "4  895  1671     2.0  887159554"
      ]
     },
     "execution_count": 11,
     "metadata": {},
     "output_type": "execute_result"
    }
   ],
   "source": [
    "df_test.head()"
   ]
  },
  {
   "cell_type": "code",
   "execution_count": 12,
   "id": "3fdbd45d",
   "metadata": {},
   "outputs": [
    {
     "data": {
      "text/plain": [
       "(60000, 4)"
      ]
     },
     "execution_count": 12,
     "metadata": {},
     "output_type": "execute_result"
    }
   ],
   "source": [
    "df_train.shape"
   ]
  },
  {
   "cell_type": "code",
   "execution_count": 13,
   "id": "a8d5a083",
   "metadata": {
    "scrolled": true
   },
   "outputs": [
    {
     "data": {
      "text/plain": [
       "(15000, 4)"
      ]
     },
     "execution_count": 13,
     "metadata": {},
     "output_type": "execute_result"
    }
   ],
   "source": [
    "df_val.shape"
   ]
  },
  {
   "cell_type": "code",
   "execution_count": 14,
   "id": "e74a364b",
   "metadata": {},
   "outputs": [
    {
     "data": {
      "text/plain": [
       "(25000, 4)"
      ]
     },
     "execution_count": 14,
     "metadata": {},
     "output_type": "execute_result"
    }
   ],
   "source": [
    "df_test.shape"
   ]
  },
  {
   "cell_type": "code",
   "execution_count": 28,
   "id": "c3aae0ec",
   "metadata": {},
   "outputs": [],
   "source": [
    "df_train.to_csv(\"../data/df_train.csv\", header=True, index=False)\n",
    "df_val.to_csv(\"../data/df_val.csv\", header=True, index=False)\n",
    "df_test.to_csv(\"../data/df_test.csv\", header=True, index=False)"
   ]
  },
  {
   "cell_type": "markdown",
   "id": "1acd300c",
   "metadata": {},
   "source": [
    "# Generate DataLoaders and Datasets"
   ]
  },
  {
   "cell_type": "code",
   "execution_count": 15,
   "id": "b3148f9f",
   "metadata": {},
   "outputs": [],
   "source": [
    "import os\n",
    "import pandas as pd\n",
    "import torch\n",
    "from torch.utils.data import Dataset, DataLoader\n",
    "from torchvision.transforms import ToTensor\n",
    "\n",
    "class MovielensDataset(Dataset):\n",
    "    def __init__(self, path, transform=None):\n",
    "        self.ratings = pd.read_csv(path).values\n",
    "        self.path = path\n",
    "        self.transform= transform\n",
    "        \n",
    "    def __len__(self):\n",
    "        return len(self.ratings)\n",
    "    \n",
    "    def __getitem__(self, idx):\n",
    "        \"\"\"\n",
    "        Returns uid, iid and rating\n",
    "        \"\"\"\n",
    "        return int(self.ratings[idx][0]), int(self.ratings[idx][1]), float(self.ratings[idx][2])"
   ]
  },
  {
   "cell_type": "code",
   "execution_count": 16,
   "id": "fd57b089",
   "metadata": {},
   "outputs": [],
   "source": [
    "train_dataset = MovielensDataset(path=\"../data/df_train.csv\", transform=ToTensor())\n",
    "validation_dataset = MovielensDataset(path=\"../data/df_val.csv\", transform=ToTensor())\n",
    "test_dataset = MovielensDataset(path=\"../data/df_test.csv\", transform=ToTensor())"
   ]
  },
  {
   "cell_type": "code",
   "execution_count": 17,
   "id": "dd9a418d",
   "metadata": {},
   "outputs": [],
   "source": [
    "train_dataloader = DataLoader(train_dataset, batch_size=256, shuffle=True)\n",
    "validation_dataloader = DataLoader(validation_dataset, batch_size=256, shuffle=False)\n",
    "test_dataloader = DataLoader(test_dataset, batch_size=256, shuffle=False)"
   ]
  },
  {
   "cell_type": "markdown",
   "id": "1b7df07c",
   "metadata": {},
   "source": [
    "# Matrix Factorization"
   ]
  },
  {
   "cell_type": "code",
   "execution_count": 28,
   "id": "567f9c7d",
   "metadata": {},
   "outputs": [],
   "source": [
    "class MatrixFactorization(torch.nn.Module):\n",
    "    def __init__(self, n_users, n_items, n_factors=30):\n",
    "        super().__init__()\n",
    "        self.user_factors = torch.nn.Embedding(n_users, n_factors)\n",
    "        self.user_bias = torch.nn.Embedding(n_users, 1)\n",
    "            \n",
    "        self.item_factors = torch.nn.Embedding(n_items, n_factors)\n",
    "        self.item_bias = torch.nn.Embedding(n_items, 1) \n",
    "        \n",
    "        for param in self.parameters():\n",
    "            torch.nn.init.normal_(param, std=0.01)  \n",
    "    \n",
    "    def forward(self, user, item):\n",
    "        Q = self.user_factors(user)\n",
    "        bq = self.user_bias(user).flatten()\n",
    "\n",
    "        I = self.item_factors(item)\n",
    "        bi = self.item_bias(item).flatten()\n",
    "\n",
    "        return (Q*I).sum(-1) + bq + bi"
   ]
  },
  {
   "cell_type": "code",
   "execution_count": 29,
   "id": "814bbc6d",
   "metadata": {},
   "outputs": [],
   "source": [
    "model = MatrixFactorization(N_USERS, N_ITEMS, n_factors=N_FACTORS)"
   ]
  },
  {
   "cell_type": "code",
   "execution_count": 124,
   "id": "e907c0b7",
   "metadata": {},
   "outputs": [],
   "source": [
    "loss_func = torch.nn.MSELoss()\n",
    "optimizer = torch.optim.Adam(model.parameters(), weight_decay=0.0001)"
   ]
  },
  {
   "cell_type": "code",
   "execution_count": 125,
   "id": "08974af6",
   "metadata": {},
   "outputs": [
    {
     "name": "stdout",
     "output_type": "stream",
     "text": [
      "Epoch 1 | Training loss: 11.270952577793851 | Validation loss: 5.4500576924469515\n",
      "Epoch 2 | Training loss: 2.383737066958813 | Validation loss: 1.391197606668634\n",
      "Epoch 3 | Training loss: 1.1577652565976406 | Validation loss: 1.0781115141965576\n",
      "Epoch 4 | Training loss: 0.986298771614724 | Validation loss: 0.9922341350781716\n",
      "Epoch 5 | Training loss: 0.9283335896248514 | Validation loss: 0.9587470444582277\n",
      "Epoch 6 | Training loss: 0.8990206246680402 | Validation loss: 0.9415270878096759\n",
      "Epoch 7 | Training loss: 0.8803015077367742 | Validation loss: 0.9323273129382376\n",
      "Epoch 8 | Training loss: 0.8648680273522722 | Validation loss: 0.9251314149064532\n",
      "Epoch 9 | Training loss: 0.8486862015216908 | Validation loss: 0.9143248958102728\n",
      "Epoch 10 | Training loss: 0.8315889992612473 | Validation loss: 0.90930929729494\n",
      "Epoch 11 | Training loss: 0.8168447593425182 | Validation loss: 0.8997251936944864\n",
      "Epoch 12 | Training loss: 0.7979193000083274 | Validation loss: 0.8939306089433573\n",
      "Epoch 13 | Training loss: 0.7830042694477325 | Validation loss: 0.8850571220203981\n",
      "Epoch 14 | Training loss: 0.764274033079756 | Validation loss: 0.8844973151966676\n",
      "Epoch 15 | Training loss: 0.7481326699256897 | Validation loss: 0.8817275944402663\n",
      "Epoch 16 | Training loss: 0.731442091566451 | Validation loss: 0.8803571957652851\n",
      "Epoch 17 | Training loss: 0.7163462684509602 | Validation loss: 0.8724805682392444\n",
      "Epoch 18 | Training loss: 0.7008360908386555 | Validation loss: 0.8761414218757112\n",
      "Epoch 19 | Training loss: 0.6847479896342501 | Validation loss: 0.8760198435540927\n",
      "Epoch 20 | Training loss: 0.6679742359100505 | Validation loss: 0.8750303579589068\n",
      "Epoch 21 | Training loss: 0.6516634200481658 | Validation loss: 0.8745752300246287\n",
      "Epoch 22 | Training loss: 0.6331773279829228 | Validation loss: 0.8780007059291258\n",
      "Epoch 23 | Training loss: 0.6147615832217196 | Validation loss: 0.8734127798322904\n",
      "Epoch 24 | Training loss: 0.5943785328814324 | Validation loss: 0.8762314258995703\n",
      "Epoch 25 | Training loss: 0.5732045660627649 | Validation loss: 0.8777853755627648\n",
      "Epoch 26 | Training loss: 0.5498761717309343 | Validation loss: 0.8789383991289947\n",
      "Epoch 27 | Training loss: 0.5263413278346366 | Validation loss: 0.8806217686604645\n",
      "Epoch 28 | Training loss: 0.5021202569312238 | Validation loss: 0.8826183100878182\n",
      "Epoch 29 | Training loss: 0.4753800483460122 | Validation loss: 0.8865110651921417\n",
      "Epoch 30 | Training loss: 0.4494069068989855 | Validation loss: 0.8872077303417658\n"
     ]
    }
   ],
   "source": [
    "train_loss = []\n",
    "val_loss = []\n",
    "\n",
    "for e in range(30):\n",
    "    train_losses = []\n",
    "    val_losses = []\n",
    "    \n",
    "    for uid, iid, rating in train_dataloader:\n",
    "        # Set gradients to zero\n",
    "        optimizer.zero_grad()\n",
    "        rating_hat = model(uid.to(torch.long), iid.to(torch.long))\n",
    "        loss = loss_func(rating_hat, rating.to(torch.float))\n",
    "\n",
    "        # Backpropagate\n",
    "        loss.backward()\n",
    "\n",
    "        # Update the parameters\n",
    "        optimizer.step()\n",
    "        train_losses.append(float(loss))\n",
    "    \n",
    "    for uid, iid, rating in validation_dataloader:\n",
    "        rating_hat = model(uid, iid)\n",
    "        loss = loss_func(rating_hat, rating.to(torch.float))\n",
    "        val_losses.append(float(loss))\n",
    "    \n",
    "    train_loss.append(np.mean(train_losses))\n",
    "    val_loss.append(np.mean(val_losses))\n",
    "    print(f\"Epoch {e + 1} | Training loss: {train_loss[-1]} | Validation loss: {val_loss[-1]}\")\n",
    "    "
   ]
  },
  {
   "cell_type": "code",
   "execution_count": 126,
   "id": "b90c1245",
   "metadata": {},
   "outputs": [
    {
     "data": {
      "text/plain": [
       "[<matplotlib.lines.Line2D at 0x1514b3430>]"
      ]
     },
     "execution_count": 126,
     "metadata": {},
     "output_type": "execute_result"
    },
    {
     "data": {
      "image/png": "[encoded data removed]",
      "text/plain": [
       "<Figure size 800x600 with 1 Axes>"
      ]
     },
     "metadata": {},
     "output_type": "display_data"
    }
   ],
   "source": [
    "plt.plot(train_loss)\n",
    "plt.plot(val_loss)"
   ]
  },
  {
   "cell_type": "code",
   "execution_count": 132,
   "id": "fd1eccbf",
   "metadata": {},
   "outputs": [],
   "source": [
    "test_losses = []\n",
    "\n",
    "for uid, iid, rating in test_dataloader:\n",
    "    rating_hat = model(uid, iid)\n",
    "    loss = torch.sqrt(loss_func(rating_hat, rating.to(torch.float)))\n",
    "    test_losses.append(float(loss))"
   ]
  },
  {
   "cell_type": "code",
   "execution_count": 133,
   "id": "3b56f012",
   "metadata": {},
   "outputs": [
    {
     "data": {
      "text/plain": [
       "0.9486468482990654"
      ]
     },
     "execution_count": 133,
     "metadata": {},
     "output_type": "execute_result"
    }
   ],
   "source": [
    "np.mean(test_losses)"
   ]
  }
 ],
 "metadata": {
  "kernelspec": {
   "display_name": "Python 3 (ipykernel)",
   "language": "python",
   "name": "python3"
  },
  "language_info": {
   "codemirror_mode": {
    "name": "ipython",
    "version": 3
   },
   "file_extension": ".py",
   "mimetype": "text/x-python",
   "name": "python",
   "nbconvert_exporter": "python",
   "pygments_lexer": "ipython3",
   "version": "3.9.13"
  }
 },
 "nbformat": 4,
 "nbformat_minor": 5
}
