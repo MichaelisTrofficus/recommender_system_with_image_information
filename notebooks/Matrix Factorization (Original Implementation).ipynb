{
 "cells": [
  {
   "cell_type": "markdown",
   "id": "96ce29d1",
   "metadata": {},
   "source": [
    "We are going to start with a simple implementation of Matrix Factorization without any kind baselines using PyTorch."
   ]
  },
  {
   "cell_type": "code",
   "execution_count": 1,
   "id": "5c9adbd0",
   "metadata": {},
   "outputs": [],
   "source": [
    "import os\n",
    "import random\n",
    "import matplotlib.pyplot as plt\n",
    "import scienceplots\n",
    "import numpy as np\n",
    "import pandas as pd\n",
    "import torch\n",
    "\n",
    "from surprise import Dataset, Reader\n",
    "\n",
    "def set_df_to_index_based(df):\n",
    "    \"\"\"\n",
    "    Transforms the Movielens Index into Python indices for PyTorch embeddings computation\n",
    "    \"\"\"\n",
    "    df = df.astype({\"uid\": \"int64\", \"iid\": \"int64\"})\n",
    "    df[\"uid\"] = df[\"uid\"] - 1\n",
    "    df[\"iid\"] = df[\"iid\"] - 1\n",
    "    return df\n",
    "\n",
    "# Define a random state so that the train test splits can be reproducible\n",
    "RANDOM_STATE = 128\n",
    "\n",
    "# Add this path to use SciencePlots (it uses latex)\n",
    "os.environ[\"PATH\"] += os.pathsep + \"/Library/TeX/texbin\"\n",
    "\n",
    "plt.rcParams[\"figure.figsize\"] = (100,100)\n",
    "plt.style.use(['science', 'notebook'])\n",
    "\n",
    "# Problem Specific constants\n",
    "N_USERS = 943\n",
    "N_ITEMS = 1682\n",
    "N_FACTORS = 100 "
   ]
  },
  {
   "cell_type": "markdown",
   "id": "99e47876",
   "metadata": {},
   "source": [
    "### Generate train and test sets"
   ]
  },
  {
   "cell_type": "code",
   "execution_count": 15,
   "id": "918341bd",
   "metadata": {},
   "outputs": [],
   "source": [
    "# path to dataset file\n",
    "file_path = \"../ml-100k/u.data\"\n",
    "reader = Reader(line_format=\"user item rating timestamp\", sep=\"\\t\")\n",
    "data = Dataset.load_from_file(file_path, reader=reader)\n",
    "\n",
    "# Get raw ratings from `Dataset` object\n",
    "raw_ratings = data.raw_ratings\n",
    "\n",
    "# Shuffle the raw ratings and select train and test splits (75 % / 25 %)\n",
    "random.Random(RANDOM_STATE).shuffle(raw_ratings)\n",
    "threshold = int(0.75 * len(raw_ratings))\n",
    "train_raw_ratings = raw_ratings[:threshold]\n",
    "test_raw_ratings = raw_ratings[threshold:]\n",
    "\n",
    "threshold_val = int(0.20 * len(train_raw_ratings))\n",
    "val_raw_ratings = train_raw_ratings[:threshold_val]\n",
    "train_raw_ratings = train_raw_ratings[threshold_val:]"
   ]
  },
  {
   "cell_type": "code",
   "execution_count": 16,
   "id": "08decf6a",
   "metadata": {},
   "outputs": [],
   "source": [
    "# Transform surprise based objects to pandas dataframes\n",
    "df_train = pd.DataFrame.from_records(train_raw_ratings, columns=[\"uid\", \"iid\", \"rating\", \"timestamp\"])\n",
    "df_val = pd.DataFrame.from_records(val_raw_ratings, columns=[\"uid\", \"iid\", \"rating\", \"timestamp\"])\n",
    "df_test = pd.DataFrame.from_records(test_raw_ratings, columns=[\"uid\", \"iid\", \"rating\", \"timestamp\"])"
   ]
  },
  {
   "cell_type": "code",
   "execution_count": 17,
   "id": "da1a90e3",
   "metadata": {},
   "outputs": [
    {
     "data": {
      "text/html": [
       "<div>\n",
       "<style scoped>\n",
       "    .dataframe tbody tr th:only-of-type {\n",
       "        vertical-align: middle;\n",
       "    }\n",
       "\n",
       "    .dataframe tbody tr th {\n",
       "        vertical-align: top;\n",
       "    }\n",
       "\n",
       "    .dataframe thead th {\n",
       "        text-align: right;\n",
       "    }\n",
       "</style>\n",
       "<table border=\"1\" class=\"dataframe\">\n",
       "  <thead>\n",
       "    <tr style=\"text-align: right;\">\n",
       "      <th></th>\n",
       "      <th>uid</th>\n",
       "      <th>iid</th>\n",
       "      <th>rating</th>\n",
       "      <th>timestamp</th>\n",
       "    </tr>\n",
       "  </thead>\n",
       "  <tbody>\n",
       "    <tr>\n",
       "      <th>0</th>\n",
       "      <td>497</td>\n",
       "      <td>53</td>\n",
       "      <td>3.0</td>\n",
       "      <td>879362178</td>\n",
       "    </tr>\n",
       "    <tr>\n",
       "      <th>1</th>\n",
       "      <td>123</td>\n",
       "      <td>165</td>\n",
       "      <td>5.0</td>\n",
       "      <td>879872672</td>\n",
       "    </tr>\n",
       "    <tr>\n",
       "      <th>2</th>\n",
       "      <td>873</td>\n",
       "      <td>348</td>\n",
       "      <td>3.0</td>\n",
       "      <td>891392577</td>\n",
       "    </tr>\n",
       "    <tr>\n",
       "      <th>3</th>\n",
       "      <td>790</td>\n",
       "      <td>249</td>\n",
       "      <td>3.0</td>\n",
       "      <td>884461849</td>\n",
       "    </tr>\n",
       "    <tr>\n",
       "      <th>4</th>\n",
       "      <td>372</td>\n",
       "      <td>100</td>\n",
       "      <td>3.0</td>\n",
       "      <td>876869388</td>\n",
       "    </tr>\n",
       "  </tbody>\n",
       "</table>\n",
       "</div>"
      ],
      "text/plain": [
       "   uid  iid  rating  timestamp\n",
       "0  497   53     3.0  879362178\n",
       "1  123  165     5.0  879872672\n",
       "2  873  348     3.0  891392577\n",
       "3  790  249     3.0  884461849\n",
       "4  372  100     3.0  876869388"
      ]
     },
     "execution_count": 17,
     "metadata": {},
     "output_type": "execute_result"
    }
   ],
   "source": [
    "df_train.head()"
   ]
  },
  {
   "cell_type": "code",
   "execution_count": 18,
   "id": "8119ae4a",
   "metadata": {},
   "outputs": [],
   "source": [
    "df_train = set_df_to_index_based(df_train)"
   ]
  },
  {
   "cell_type": "code",
   "execution_count": 19,
   "id": "9cfc0238",
   "metadata": {
    "scrolled": false
   },
   "outputs": [
    {
     "data": {
      "text/html": [
       "<div>\n",
       "<style scoped>\n",
       "    .dataframe tbody tr th:only-of-type {\n",
       "        vertical-align: middle;\n",
       "    }\n",
       "\n",
       "    .dataframe tbody tr th {\n",
       "        vertical-align: top;\n",
       "    }\n",
       "\n",
       "    .dataframe thead th {\n",
       "        text-align: right;\n",
       "    }\n",
       "</style>\n",
       "<table border=\"1\" class=\"dataframe\">\n",
       "  <thead>\n",
       "    <tr style=\"text-align: right;\">\n",
       "      <th></th>\n",
       "      <th>uid</th>\n",
       "      <th>iid</th>\n",
       "      <th>rating</th>\n",
       "      <th>timestamp</th>\n",
       "    </tr>\n",
       "  </thead>\n",
       "  <tbody>\n",
       "    <tr>\n",
       "      <th>0</th>\n",
       "      <td>496</td>\n",
       "      <td>52</td>\n",
       "      <td>3.0</td>\n",
       "      <td>879362178</td>\n",
       "    </tr>\n",
       "    <tr>\n",
       "      <th>1</th>\n",
       "      <td>122</td>\n",
       "      <td>164</td>\n",
       "      <td>5.0</td>\n",
       "      <td>879872672</td>\n",
       "    </tr>\n",
       "    <tr>\n",
       "      <th>2</th>\n",
       "      <td>872</td>\n",
       "      <td>347</td>\n",
       "      <td>3.0</td>\n",
       "      <td>891392577</td>\n",
       "    </tr>\n",
       "    <tr>\n",
       "      <th>3</th>\n",
       "      <td>789</td>\n",
       "      <td>248</td>\n",
       "      <td>3.0</td>\n",
       "      <td>884461849</td>\n",
       "    </tr>\n",
       "    <tr>\n",
       "      <th>4</th>\n",
       "      <td>371</td>\n",
       "      <td>99</td>\n",
       "      <td>3.0</td>\n",
       "      <td>876869388</td>\n",
       "    </tr>\n",
       "  </tbody>\n",
       "</table>\n",
       "</div>"
      ],
      "text/plain": [
       "   uid  iid  rating  timestamp\n",
       "0  496   52     3.0  879362178\n",
       "1  122  164     5.0  879872672\n",
       "2  872  347     3.0  891392577\n",
       "3  789  248     3.0  884461849\n",
       "4  371   99     3.0  876869388"
      ]
     },
     "execution_count": 19,
     "metadata": {},
     "output_type": "execute_result"
    }
   ],
   "source": [
    "df_train.head()"
   ]
  },
  {
   "cell_type": "code",
   "execution_count": 23,
   "id": "238054f2",
   "metadata": {
    "scrolled": true
   },
   "outputs": [
    {
     "data": {
      "text/html": [
       "<div>\n",
       "<style scoped>\n",
       "    .dataframe tbody tr th:only-of-type {\n",
       "        vertical-align: middle;\n",
       "    }\n",
       "\n",
       "    .dataframe tbody tr th {\n",
       "        vertical-align: top;\n",
       "    }\n",
       "\n",
       "    .dataframe thead th {\n",
       "        text-align: right;\n",
       "    }\n",
       "</style>\n",
       "<table border=\"1\" class=\"dataframe\">\n",
       "  <thead>\n",
       "    <tr style=\"text-align: right;\">\n",
       "      <th></th>\n",
       "      <th>uid</th>\n",
       "      <th>iid</th>\n",
       "      <th>rating</th>\n",
       "      <th>timestamp</th>\n",
       "    </tr>\n",
       "  </thead>\n",
       "  <tbody>\n",
       "    <tr>\n",
       "      <th>0</th>\n",
       "      <td>194</td>\n",
       "      <td>423</td>\n",
       "      <td>3.0</td>\n",
       "      <td>879548121</td>\n",
       "    </tr>\n",
       "    <tr>\n",
       "      <th>1</th>\n",
       "      <td>104</td>\n",
       "      <td>333</td>\n",
       "      <td>2.0</td>\n",
       "      <td>888442305</td>\n",
       "    </tr>\n",
       "    <tr>\n",
       "      <th>2</th>\n",
       "      <td>41</td>\n",
       "      <td>174</td>\n",
       "      <td>4.0</td>\n",
       "      <td>890687264</td>\n",
       "    </tr>\n",
       "    <tr>\n",
       "      <th>3</th>\n",
       "      <td>489</td>\n",
       "      <td>751</td>\n",
       "      <td>5.0</td>\n",
       "      <td>891362773</td>\n",
       "    </tr>\n",
       "    <tr>\n",
       "      <th>4</th>\n",
       "      <td>593</td>\n",
       "      <td>288</td>\n",
       "      <td>4.0</td>\n",
       "      <td>877728878</td>\n",
       "    </tr>\n",
       "  </tbody>\n",
       "</table>\n",
       "</div>"
      ],
      "text/plain": [
       "   uid  iid  rating  timestamp\n",
       "0  194  423     3.0  879548121\n",
       "1  104  333     2.0  888442305\n",
       "2   41  174     4.0  890687264\n",
       "3  489  751     5.0  891362773\n",
       "4  593  288     4.0  877728878"
      ]
     },
     "execution_count": 23,
     "metadata": {},
     "output_type": "execute_result"
    }
   ],
   "source": [
    "df_val.head()"
   ]
  },
  {
   "cell_type": "code",
   "execution_count": 24,
   "id": "d292be94",
   "metadata": {},
   "outputs": [],
   "source": [
    "df_val = set_df_to_index_based(df_val)"
   ]
  },
  {
   "cell_type": "code",
   "execution_count": 20,
   "id": "b0920d38",
   "metadata": {},
   "outputs": [
    {
     "data": {
      "text/html": [
       "<div>\n",
       "<style scoped>\n",
       "    .dataframe tbody tr th:only-of-type {\n",
       "        vertical-align: middle;\n",
       "    }\n",
       "\n",
       "    .dataframe tbody tr th {\n",
       "        vertical-align: top;\n",
       "    }\n",
       "\n",
       "    .dataframe thead th {\n",
       "        text-align: right;\n",
       "    }\n",
       "</style>\n",
       "<table border=\"1\" class=\"dataframe\">\n",
       "  <thead>\n",
       "    <tr style=\"text-align: right;\">\n",
       "      <th></th>\n",
       "      <th>uid</th>\n",
       "      <th>iid</th>\n",
       "      <th>rating</th>\n",
       "      <th>timestamp</th>\n",
       "    </tr>\n",
       "  </thead>\n",
       "  <tbody>\n",
       "    <tr>\n",
       "      <th>0</th>\n",
       "      <td>5</td>\n",
       "      <td>24</td>\n",
       "      <td>4.0</td>\n",
       "      <td>879198229</td>\n",
       "    </tr>\n",
       "    <tr>\n",
       "      <th>1</th>\n",
       "      <td>716</td>\n",
       "      <td>501</td>\n",
       "      <td>5.0</td>\n",
       "      <td>879796215</td>\n",
       "    </tr>\n",
       "    <tr>\n",
       "      <th>2</th>\n",
       "      <td>590</td>\n",
       "      <td>476</td>\n",
       "      <td>3.0</td>\n",
       "      <td>879439345</td>\n",
       "    </tr>\n",
       "    <tr>\n",
       "      <th>3</th>\n",
       "      <td>601</td>\n",
       "      <td>98</td>\n",
       "      <td>3.0</td>\n",
       "      <td>876348526</td>\n",
       "    </tr>\n",
       "    <tr>\n",
       "      <th>4</th>\n",
       "      <td>896</td>\n",
       "      <td>1672</td>\n",
       "      <td>2.0</td>\n",
       "      <td>887159554</td>\n",
       "    </tr>\n",
       "  </tbody>\n",
       "</table>\n",
       "</div>"
      ],
      "text/plain": [
       "   uid   iid  rating  timestamp\n",
       "0    5    24     4.0  879198229\n",
       "1  716   501     5.0  879796215\n",
       "2  590   476     3.0  879439345\n",
       "3  601    98     3.0  876348526\n",
       "4  896  1672     2.0  887159554"
      ]
     },
     "execution_count": 20,
     "metadata": {},
     "output_type": "execute_result"
    }
   ],
   "source": [
    "df_test.head()"
   ]
  },
  {
   "cell_type": "code",
   "execution_count": 21,
   "id": "5f900b7c",
   "metadata": {},
   "outputs": [],
   "source": [
    "df_test = set_df_to_index_based(df_test)"
   ]
  },
  {
   "cell_type": "code",
   "execution_count": 22,
   "id": "a6b2ee22",
   "metadata": {
    "scrolled": true
   },
   "outputs": [
    {
     "data": {
      "text/html": [
       "<div>\n",
       "<style scoped>\n",
       "    .dataframe tbody tr th:only-of-type {\n",
       "        vertical-align: middle;\n",
       "    }\n",
       "\n",
       "    .dataframe tbody tr th {\n",
       "        vertical-align: top;\n",
       "    }\n",
       "\n",
       "    .dataframe thead th {\n",
       "        text-align: right;\n",
       "    }\n",
       "</style>\n",
       "<table border=\"1\" class=\"dataframe\">\n",
       "  <thead>\n",
       "    <tr style=\"text-align: right;\">\n",
       "      <th></th>\n",
       "      <th>uid</th>\n",
       "      <th>iid</th>\n",
       "      <th>rating</th>\n",
       "      <th>timestamp</th>\n",
       "    </tr>\n",
       "  </thead>\n",
       "  <tbody>\n",
       "    <tr>\n",
       "      <th>0</th>\n",
       "      <td>4</td>\n",
       "      <td>23</td>\n",
       "      <td>4.0</td>\n",
       "      <td>879198229</td>\n",
       "    </tr>\n",
       "    <tr>\n",
       "      <th>1</th>\n",
       "      <td>715</td>\n",
       "      <td>500</td>\n",
       "      <td>5.0</td>\n",
       "      <td>879796215</td>\n",
       "    </tr>\n",
       "    <tr>\n",
       "      <th>2</th>\n",
       "      <td>589</td>\n",
       "      <td>475</td>\n",
       "      <td>3.0</td>\n",
       "      <td>879439345</td>\n",
       "    </tr>\n",
       "    <tr>\n",
       "      <th>3</th>\n",
       "      <td>600</td>\n",
       "      <td>97</td>\n",
       "      <td>3.0</td>\n",
       "      <td>876348526</td>\n",
       "    </tr>\n",
       "    <tr>\n",
       "      <th>4</th>\n",
       "      <td>895</td>\n",
       "      <td>1671</td>\n",
       "      <td>2.0</td>\n",
       "      <td>887159554</td>\n",
       "    </tr>\n",
       "  </tbody>\n",
       "</table>\n",
       "</div>"
      ],
      "text/plain": [
       "   uid   iid  rating  timestamp\n",
       "0    4    23     4.0  879198229\n",
       "1  715   500     5.0  879796215\n",
       "2  589   475     3.0  879439345\n",
       "3  600    97     3.0  876348526\n",
       "4  895  1671     2.0  887159554"
      ]
     },
     "execution_count": 22,
     "metadata": {},
     "output_type": "execute_result"
    }
   ],
   "source": [
    "df_test.head()"
   ]
  },
  {
   "cell_type": "code",
   "execution_count": 25,
   "id": "3fdbd45d",
   "metadata": {},
   "outputs": [
    {
     "data": {
      "text/plain": [
       "(60000, 4)"
      ]
     },
     "execution_count": 25,
     "metadata": {},
     "output_type": "execute_result"
    }
   ],
   "source": [
    "df_train.shape"
   ]
  },
  {
   "cell_type": "code",
   "execution_count": 26,
   "id": "a8d5a083",
   "metadata": {
    "scrolled": true
   },
   "outputs": [
    {
     "data": {
      "text/plain": [
       "(15000, 4)"
      ]
     },
     "execution_count": 26,
     "metadata": {},
     "output_type": "execute_result"
    }
   ],
   "source": [
    "df_val.shape"
   ]
  },
  {
   "cell_type": "code",
   "execution_count": 27,
   "id": "e74a364b",
   "metadata": {},
   "outputs": [
    {
     "data": {
      "text/plain": [
       "(25000, 4)"
      ]
     },
     "execution_count": 27,
     "metadata": {},
     "output_type": "execute_result"
    }
   ],
   "source": [
    "df_test.shape"
   ]
  },
  {
   "cell_type": "code",
   "execution_count": 28,
   "id": "c3aae0ec",
   "metadata": {},
   "outputs": [],
   "source": [
    "df_train.to_csv(\"../data/df_train.csv\", header=True, index=False)\n",
    "df_val.to_csv(\"../data/df_val.csv\", header=True, index=False)\n",
    "df_test.to_csv(\"../data/df_test.csv\", header=True, index=False)"
   ]
  },
  {
   "cell_type": "markdown",
   "id": "8851ac57",
   "metadata": {},
   "source": [
    "### Import generated train and test sets"
   ]
  },
  {
   "cell_type": "code",
   "execution_count": 29,
   "id": "f3e9027b",
   "metadata": {},
   "outputs": [],
   "source": [
    "df_train = pd.read_csv(\"../data/df_train.csv\")\n",
    "df_val = pd.read_csv(\"../data/df_val.csv\")\n",
    "df_test = pd.read_csv(\"../data/df_test.csv\")"
   ]
  },
  {
   "cell_type": "code",
   "execution_count": 30,
   "id": "c29cbdc8",
   "metadata": {
    "scrolled": true
   },
   "outputs": [
    {
     "data": {
      "text/html": [
       "<div>\n",
       "<style scoped>\n",
       "    .dataframe tbody tr th:only-of-type {\n",
       "        vertical-align: middle;\n",
       "    }\n",
       "\n",
       "    .dataframe tbody tr th {\n",
       "        vertical-align: top;\n",
       "    }\n",
       "\n",
       "    .dataframe thead th {\n",
       "        text-align: right;\n",
       "    }\n",
       "</style>\n",
       "<table border=\"1\" class=\"dataframe\">\n",
       "  <thead>\n",
       "    <tr style=\"text-align: right;\">\n",
       "      <th></th>\n",
       "      <th>uid</th>\n",
       "      <th>iid</th>\n",
       "      <th>rating</th>\n",
       "      <th>timestamp</th>\n",
       "    </tr>\n",
       "  </thead>\n",
       "  <tbody>\n",
       "    <tr>\n",
       "      <th>0</th>\n",
       "      <td>496</td>\n",
       "      <td>52</td>\n",
       "      <td>3.0</td>\n",
       "      <td>879362178</td>\n",
       "    </tr>\n",
       "    <tr>\n",
       "      <th>1</th>\n",
       "      <td>122</td>\n",
       "      <td>164</td>\n",
       "      <td>5.0</td>\n",
       "      <td>879872672</td>\n",
       "    </tr>\n",
       "    <tr>\n",
       "      <th>2</th>\n",
       "      <td>872</td>\n",
       "      <td>347</td>\n",
       "      <td>3.0</td>\n",
       "      <td>891392577</td>\n",
       "    </tr>\n",
       "    <tr>\n",
       "      <th>3</th>\n",
       "      <td>789</td>\n",
       "      <td>248</td>\n",
       "      <td>3.0</td>\n",
       "      <td>884461849</td>\n",
       "    </tr>\n",
       "    <tr>\n",
       "      <th>4</th>\n",
       "      <td>371</td>\n",
       "      <td>99</td>\n",
       "      <td>3.0</td>\n",
       "      <td>876869388</td>\n",
       "    </tr>\n",
       "  </tbody>\n",
       "</table>\n",
       "</div>"
      ],
      "text/plain": [
       "   uid  iid  rating  timestamp\n",
       "0  496   52     3.0  879362178\n",
       "1  122  164     5.0  879872672\n",
       "2  872  347     3.0  891392577\n",
       "3  789  248     3.0  884461849\n",
       "4  371   99     3.0  876869388"
      ]
     },
     "execution_count": 30,
     "metadata": {},
     "output_type": "execute_result"
    }
   ],
   "source": [
    "df_train.head()"
   ]
  },
  {
   "cell_type": "code",
   "execution_count": 34,
   "id": "201df553",
   "metadata": {},
   "outputs": [],
   "source": [
    "train_arr = df_train.values\n",
    "val_arr = df_val.values\n",
    "test_arr = df_test.values"
   ]
  },
  {
   "cell_type": "code",
   "execution_count": 35,
   "id": "486d73b2",
   "metadata": {},
   "outputs": [
    {
     "data": {
      "text/plain": [
       "array([[4.96000000e+02, 5.20000000e+01, 3.00000000e+00, 8.79362178e+08],\n",
       "       [1.22000000e+02, 1.64000000e+02, 5.00000000e+00, 8.79872672e+08],\n",
       "       [8.72000000e+02, 3.47000000e+02, 3.00000000e+00, 8.91392577e+08]])"
      ]
     },
     "execution_count": 35,
     "metadata": {},
     "output_type": "execute_result"
    }
   ],
   "source": [
    "train_arr[:3]"
   ]
  },
  {
   "cell_type": "markdown",
   "id": "7bdb4c7e",
   "metadata": {},
   "source": [
    "### MF without baselines"
   ]
  },
  {
   "cell_type": "code",
   "execution_count": 36,
   "id": "15665602",
   "metadata": {},
   "outputs": [],
   "source": [
    "class MatrixFactorization(torch.nn.Module):\n",
    "    def __init__(self, n_users, n_items, n_factors=100):\n",
    "        super().__init__()\n",
    "        self.user_factors = torch.nn.Embedding(n_users, n_factors)\n",
    "        self.item_factors = torch.nn.Embedding(n_items, n_factors)\n",
    "    \n",
    "    def forward(self, user, item):\n",
    "        return torch.dot(self.user_factors(user)[0], self.item_factors(item)[0])"
   ]
  },
  {
   "cell_type": "code",
   "execution_count": 37,
   "id": "70002177",
   "metadata": {},
   "outputs": [],
   "source": [
    "model = MatrixFactorization(N_USERS, N_ITEMS, n_factors=N_FACTORS)"
   ]
  },
  {
   "cell_type": "code",
   "execution_count": 38,
   "id": "1d69a2bc",
   "metadata": {},
   "outputs": [],
   "source": [
    "loss_func = torch.nn.MSELoss()\n",
    "optimizer = torch.optim.SGD(model.parameters(), lr=0.002, weight_decay=1e-5)"
   ]
  },
  {
   "cell_type": "code",
   "execution_count": 40,
   "id": "866f0260",
   "metadata": {},
   "outputs": [
    {
     "name": "stderr",
     "output_type": "stream",
     "text": [
      "/var/folders/0z/314w_11n5h1fxjpbcbg88xl40000gp/T/ipykernel_5896/1224176073.py:12: DeprecationWarning: an integer is required (got type numpy.float64).  Implicit conversion to integers using __int__ is deprecated, and may be removed in a future version of Python.\n",
      "  uid = torch.LongTensor([interaction[0]])\n",
      "/var/folders/0z/314w_11n5h1fxjpbcbg88xl40000gp/T/ipykernel_5896/1224176073.py:13: DeprecationWarning: an integer is required (got type numpy.float64).  Implicit conversion to integers using __int__ is deprecated, and may be removed in a future version of Python.\n",
      "  iid = torch.LongTensor([interaction[1]])\n",
      "/var/folders/0z/314w_11n5h1fxjpbcbg88xl40000gp/T/ipykernel_5896/1224176073.py:29: DeprecationWarning: an integer is required (got type numpy.float64).  Implicit conversion to integers using __int__ is deprecated, and may be removed in a future version of Python.\n",
      "  uid = torch.LongTensor([interaction[0]])\n",
      "/var/folders/0z/314w_11n5h1fxjpbcbg88xl40000gp/T/ipykernel_5896/1224176073.py:30: DeprecationWarning: an integer is required (got type numpy.float64).  Implicit conversion to integers using __int__ is deprecated, and may be removed in a future version of Python.\n",
      "  iid = torch.LongTensor([interaction[1]])\n"
     ]
    },
    {
     "name": "stdout",
     "output_type": "stream",
     "text": [
      "Epoch 1 | Training loss: 3.972188458793133 | Validation loss: 34.314484101028846\n",
      "Epoch 2 | Training loss: 2.398287098287923 | Validation loss: 32.47558789188046\n",
      "Epoch 3 | Training loss: 1.6549674052904328 | Validation loss: 31.264149099869005\n",
      "Epoch 4 | Training loss: 1.2340123988197893 | Validation loss: 30.40162498673394\n",
      "Epoch 5 | Training loss: 0.970989415047435 | Validation loss: 29.754060780232592\n",
      "Epoch 6 | Training loss: 0.7942208567933868 | Validation loss: 29.248790428473605\n",
      "Epoch 7 | Training loss: 0.6686392661061095 | Validation loss: 28.842937024121024\n",
      "Epoch 8 | Training loss: 0.5754886085985726 | Validation loss: 28.509516144748886\n",
      "Epoch 9 | Training loss: 0.5039863726529644 | Validation loss: 28.230657813648296\n",
      "Epoch 10 | Training loss: 0.447558192449192 | Validation loss: 27.99402981247156\n",
      "Epoch 11 | Training loss: 0.40199672648828383 | Validation loss: 27.790826766528166\n",
      "Epoch 12 | Training loss: 0.36449868007167924 | Validation loss: 27.614580550391995\n",
      "Epoch 13 | Training loss: 0.33313178990743336 | Validation loss: 27.460423551704086\n",
      "Epoch 14 | Training loss: 0.30652516641890915 | Validation loss: 27.324616417565338\n",
      "Epoch 15 | Training loss: 0.28368174231806675 | Validation loss: 27.20423416145019\n",
      "Epoch 16 | Training loss: 0.2638605605606263 | Validation loss: 27.096954437436978\n",
      "Epoch 17 | Training loss: 0.24650048509693695 | Validation loss: 27.0009052673583\n",
      "Epoch 18 | Training loss: 0.23116943186565758 | Validation loss: 26.91456114263839\n",
      "Epoch 19 | Training loss: 0.21752972657993153 | Validation loss: 26.836664003996855\n",
      "Epoch 20 | Training loss: 0.2053139497731298 | Validation loss: 26.766166282948785\n"
     ]
    }
   ],
   "source": [
    "train_loss = []\n",
    "val_loss = []\n",
    "\n",
    "for e in range(20):\n",
    "    train_losses = []\n",
    "    val_losses = []\n",
    "    \n",
    "    for interaction in train_arr:\n",
    "        # Set gradients to zero\n",
    "        optimizer.zero_grad()\n",
    "\n",
    "        uid = torch.LongTensor([interaction[0]])\n",
    "        iid = torch.LongTensor([interaction[1]])\n",
    "        rating = torch.FloatTensor([interaction[2]])\n",
    "\n",
    "        rating_hat = model(uid, iid)\n",
    "        \n",
    "        loss = loss_func(rating_hat, rating)\n",
    "\n",
    "        # Backpropagate\n",
    "        loss.backward()\n",
    "\n",
    "        # Update the parameters\n",
    "        optimizer.step()\n",
    "        train_losses.append(float(loss))\n",
    "    \n",
    "    for interaction in val_arr:\n",
    "        \n",
    "        uid = torch.LongTensor([interaction[0]])\n",
    "        iid = torch.LongTensor([interaction[1]])\n",
    "        rating = torch.FloatTensor([interaction[2]])\n",
    "\n",
    "        rating_hat = model(uid, iid)\n",
    "        \n",
    "        loss = loss_func(rating_hat, rating)\n",
    "        val_losses.append(float(loss))\n",
    "    \n",
    "    train_loss.append(np.mean(train_losses))\n",
    "    val_loss.append(np.mean(val_losses))\n",
    "    print(f\"Epoch {e + 1} | Training loss: {train_loss[-1]} | Validation loss: {val_loss[-1]}\")\n",
    "    "
   ]
  },
  {
   "cell_type": "code",
   "execution_count": null,
   "id": "05d6b461",
   "metadata": {},
   "outputs": [],
   "source": []
  }
 ],
 "metadata": {
  "kernelspec": {
   "display_name": "Python 3 (ipykernel)",
   "language": "python",
   "name": "python3"
  },
  "language_info": {
   "codemirror_mode": {
    "name": "ipython",
    "version": 3
   },
   "file_extension": ".py",
   "mimetype": "text/x-python",
   "name": "python",
   "nbconvert_exporter": "python",
   "pygments_lexer": "ipython3",
   "version": "3.9.13"
  }
 },
 "nbformat": 4,
 "nbformat_minor": 5
}
