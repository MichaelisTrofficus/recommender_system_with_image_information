{
 "cells": [
  {
   "cell_type": "code",
   "execution_count": 1,
   "id": "e9880819",
   "metadata": {},
   "outputs": [],
   "source": [
    "import os\n",
    "import numpy as np\n",
    "import pandas as pd\n",
    "import matplotlib.pyplot as plt\n",
    "from sklearn.model_selection import train_test_split\n",
    "\n",
    "plt.rcParams[\"figure.figsize\"] = (15,5)\n",
    "pd.set_option('display.max_columns', None)\n",
    "\n",
    "\n",
    "def calculate_count_ocurrences_in_genre(df, genre):\n",
    "    return df[genre].value_counts()[1]\n",
    "\n",
    "def calculate_count_ocurrences(df):\n",
    "    names = [\"unknown\", \"Action\", \"Adventure\", \"Animation\", \"Children's\", \"Comedy\", \"Crime\", \"Documentary\",\n",
    "             \"Drama\", \"Fantasy\", \"Film-Noir\", \"Horror\", \"Musical\", \"Mystery\", \"Romance\", \"Sci-Fi\", \"Thriller\",\n",
    "             \"War\", \"Western\"]\n",
    "    ocurrences = []\n",
    "    for name in names:\n",
    "        ocurrences.append(calculate_count_ocurrences_in_genre(df, name))\n",
    "    return np.asarray(names), np.asarray(ocurrences)\n",
    "    \n",
    "\n",
    "\n",
    "\n",
    "BASE_PATH = \"../ml-100k\"\n",
    "\n",
    "ratings_column_names = [\"user_id\", \"item_id\", \"rating\", \"timestamp\"]\n",
    "item_genres_column_names = [\"genre\", \"id\"]\n",
    "item_information_column_names = [\"item_id\", \"item_name\", \"date\", \"none\", \"url\", \"unknown\", \"Action\", \"Adventure\",\n",
    "                           \"Animation\", \"Children's\", \"Comedy\", \"Crime\", \"Documentary\", \"Drama\",\n",
    "                           \"Fantasy\", \"Film-Noir\", \"Horror\", \"Musical\", \"Mystery\", \"Romance\",\n",
    "                           \"Sci-Fi\", \"Thriller\", \"War\", \"Western\"]\n",
    "\n",
    "u_data_path = os.path.join(BASE_PATH, \"u.data\")\n",
    "u_genre = os.path.join(BASE_PATH, \"u.genre\")\n",
    "u_item = os.path.join(BASE_PATH, \"u.item\")\n",
    "\n",
    "data = pd.read_csv(u_data_path, sep=\"\\t\", header=None, names=[\"user_id\", \"item_id\", \"rating\", \"timestamp\"])\n",
    "genres = pd.read_csv(u_genre, sep=\"|\", header=None, names=item_genres_column_names)\n",
    "item_information = pd.read_csv(u_item, sep=\"|\", header=None, names=item_information_column_names)"
   ]
  },
  {
   "cell_type": "code",
   "execution_count": 2,
   "id": "9c587b3c",
   "metadata": {},
   "outputs": [
    {
     "data": {
      "text/html": [
       "<div>\n",
       "<style scoped>\n",
       "    .dataframe tbody tr th:only-of-type {\n",
       "        vertical-align: middle;\n",
       "    }\n",
       "\n",
       "    .dataframe tbody tr th {\n",
       "        vertical-align: top;\n",
       "    }\n",
       "\n",
       "    .dataframe thead th {\n",
       "        text-align: right;\n",
       "    }\n",
       "</style>\n",
       "<table border=\"1\" class=\"dataframe\">\n",
       "  <thead>\n",
       "    <tr style=\"text-align: right;\">\n",
       "      <th></th>\n",
       "      <th>user_id</th>\n",
       "      <th>item_id</th>\n",
       "      <th>rating</th>\n",
       "      <th>timestamp</th>\n",
       "    </tr>\n",
       "  </thead>\n",
       "  <tbody>\n",
       "    <tr>\n",
       "      <th>0</th>\n",
       "      <td>196</td>\n",
       "      <td>242</td>\n",
       "      <td>3</td>\n",
       "      <td>881250949</td>\n",
       "    </tr>\n",
       "    <tr>\n",
       "      <th>1</th>\n",
       "      <td>186</td>\n",
       "      <td>302</td>\n",
       "      <td>3</td>\n",
       "      <td>891717742</td>\n",
       "    </tr>\n",
       "    <tr>\n",
       "      <th>2</th>\n",
       "      <td>22</td>\n",
       "      <td>377</td>\n",
       "      <td>1</td>\n",
       "      <td>878887116</td>\n",
       "    </tr>\n",
       "    <tr>\n",
       "      <th>3</th>\n",
       "      <td>244</td>\n",
       "      <td>51</td>\n",
       "      <td>2</td>\n",
       "      <td>880606923</td>\n",
       "    </tr>\n",
       "    <tr>\n",
       "      <th>4</th>\n",
       "      <td>166</td>\n",
       "      <td>346</td>\n",
       "      <td>1</td>\n",
       "      <td>886397596</td>\n",
       "    </tr>\n",
       "  </tbody>\n",
       "</table>\n",
       "</div>"
      ],
      "text/plain": [
       "   user_id  item_id  rating  timestamp\n",
       "0      196      242       3  881250949\n",
       "1      186      302       3  891717742\n",
       "2       22      377       1  878887116\n",
       "3      244       51       2  880606923\n",
       "4      166      346       1  886397596"
      ]
     },
     "execution_count": 2,
     "metadata": {},
     "output_type": "execute_result"
    }
   ],
   "source": [
    "data.head()"
   ]
  },
  {
   "cell_type": "code",
   "execution_count": 3,
   "id": "8fd833bc",
   "metadata": {
    "scrolled": true
   },
   "outputs": [
    {
     "data": {
      "text/html": [
       "<div>\n",
       "<style scoped>\n",
       "    .dataframe tbody tr th:only-of-type {\n",
       "        vertical-align: middle;\n",
       "    }\n",
       "\n",
       "    .dataframe tbody tr th {\n",
       "        vertical-align: top;\n",
       "    }\n",
       "\n",
       "    .dataframe thead th {\n",
       "        text-align: right;\n",
       "    }\n",
       "</style>\n",
       "<table border=\"1\" class=\"dataframe\">\n",
       "  <thead>\n",
       "    <tr style=\"text-align: right;\">\n",
       "      <th></th>\n",
       "      <th>genre</th>\n",
       "      <th>id</th>\n",
       "    </tr>\n",
       "  </thead>\n",
       "  <tbody>\n",
       "    <tr>\n",
       "      <th>0</th>\n",
       "      <td>unknown</td>\n",
       "      <td>0</td>\n",
       "    </tr>\n",
       "    <tr>\n",
       "      <th>1</th>\n",
       "      <td>Action</td>\n",
       "      <td>1</td>\n",
       "    </tr>\n",
       "    <tr>\n",
       "      <th>2</th>\n",
       "      <td>Adventure</td>\n",
       "      <td>2</td>\n",
       "    </tr>\n",
       "    <tr>\n",
       "      <th>3</th>\n",
       "      <td>Animation</td>\n",
       "      <td>3</td>\n",
       "    </tr>\n",
       "    <tr>\n",
       "      <th>4</th>\n",
       "      <td>Children's</td>\n",
       "      <td>4</td>\n",
       "    </tr>\n",
       "  </tbody>\n",
       "</table>\n",
       "</div>"
      ],
      "text/plain": [
       "        genre  id\n",
       "0     unknown   0\n",
       "1      Action   1\n",
       "2   Adventure   2\n",
       "3   Animation   3\n",
       "4  Children's   4"
      ]
     },
     "execution_count": 3,
     "metadata": {},
     "output_type": "execute_result"
    }
   ],
   "source": [
    "genres.head()"
   ]
  },
  {
   "cell_type": "code",
   "execution_count": 4,
   "id": "1bf804e0",
   "metadata": {
    "scrolled": true
   },
   "outputs": [
    {
     "data": {
      "text/html": [
       "<div>\n",
       "<style scoped>\n",
       "    .dataframe tbody tr th:only-of-type {\n",
       "        vertical-align: middle;\n",
       "    }\n",
       "\n",
       "    .dataframe tbody tr th {\n",
       "        vertical-align: top;\n",
       "    }\n",
       "\n",
       "    .dataframe thead th {\n",
       "        text-align: right;\n",
       "    }\n",
       "</style>\n",
       "<table border=\"1\" class=\"dataframe\">\n",
       "  <thead>\n",
       "    <tr style=\"text-align: right;\">\n",
       "      <th></th>\n",
       "      <th>item_id</th>\n",
       "      <th>item_name</th>\n",
       "      <th>date</th>\n",
       "      <th>none</th>\n",
       "      <th>url</th>\n",
       "      <th>unknown</th>\n",
       "      <th>Action</th>\n",
       "      <th>Adventure</th>\n",
       "      <th>Animation</th>\n",
       "      <th>Children's</th>\n",
       "      <th>Comedy</th>\n",
       "      <th>Crime</th>\n",
       "      <th>Documentary</th>\n",
       "      <th>Drama</th>\n",
       "      <th>Fantasy</th>\n",
       "      <th>Film-Noir</th>\n",
       "      <th>Horror</th>\n",
       "      <th>Musical</th>\n",
       "      <th>Mystery</th>\n",
       "      <th>Romance</th>\n",
       "      <th>Sci-Fi</th>\n",
       "      <th>Thriller</th>\n",
       "      <th>War</th>\n",
       "      <th>Western</th>\n",
       "    </tr>\n",
       "  </thead>\n",
       "  <tbody>\n",
       "    <tr>\n",
       "      <th>0</th>\n",
       "      <td>1</td>\n",
       "      <td>Toy Story (1995)</td>\n",
       "      <td>01-Jan-1995</td>\n",
       "      <td>NaN</td>\n",
       "      <td>http://us.imdb.com/M/title-exact?Toy%20Story%2...</td>\n",
       "      <td>0</td>\n",
       "      <td>0</td>\n",
       "      <td>0</td>\n",
       "      <td>1</td>\n",
       "      <td>1</td>\n",
       "      <td>1</td>\n",
       "      <td>0</td>\n",
       "      <td>0</td>\n",
       "      <td>0</td>\n",
       "      <td>0</td>\n",
       "      <td>0</td>\n",
       "      <td>0</td>\n",
       "      <td>0</td>\n",
       "      <td>0</td>\n",
       "      <td>0</td>\n",
       "      <td>0</td>\n",
       "      <td>0</td>\n",
       "      <td>0</td>\n",
       "      <td>0</td>\n",
       "    </tr>\n",
       "    <tr>\n",
       "      <th>1</th>\n",
       "      <td>2</td>\n",
       "      <td>GoldenEye (1995)</td>\n",
       "      <td>01-Jan-1995</td>\n",
       "      <td>NaN</td>\n",
       "      <td>http://us.imdb.com/M/title-exact?GoldenEye%20(...</td>\n",
       "      <td>0</td>\n",
       "      <td>1</td>\n",
       "      <td>1</td>\n",
       "      <td>0</td>\n",
       "      <td>0</td>\n",
       "      <td>0</td>\n",
       "      <td>0</td>\n",
       "      <td>0</td>\n",
       "      <td>0</td>\n",
       "      <td>0</td>\n",
       "      <td>0</td>\n",
       "      <td>0</td>\n",
       "      <td>0</td>\n",
       "      <td>0</td>\n",
       "      <td>0</td>\n",
       "      <td>0</td>\n",
       "      <td>1</td>\n",
       "      <td>0</td>\n",
       "      <td>0</td>\n",
       "    </tr>\n",
       "    <tr>\n",
       "      <th>2</th>\n",
       "      <td>3</td>\n",
       "      <td>Four Rooms (1995)</td>\n",
       "      <td>01-Jan-1995</td>\n",
       "      <td>NaN</td>\n",
       "      <td>http://us.imdb.com/M/title-exact?Four%20Rooms%...</td>\n",
       "      <td>0</td>\n",
       "      <td>0</td>\n",
       "      <td>0</td>\n",
       "      <td>0</td>\n",
       "      <td>0</td>\n",
       "      <td>0</td>\n",
       "      <td>0</td>\n",
       "      <td>0</td>\n",
       "      <td>0</td>\n",
       "      <td>0</td>\n",
       "      <td>0</td>\n",
       "      <td>0</td>\n",
       "      <td>0</td>\n",
       "      <td>0</td>\n",
       "      <td>0</td>\n",
       "      <td>0</td>\n",
       "      <td>1</td>\n",
       "      <td>0</td>\n",
       "      <td>0</td>\n",
       "    </tr>\n",
       "    <tr>\n",
       "      <th>3</th>\n",
       "      <td>4</td>\n",
       "      <td>Get Shorty (1995)</td>\n",
       "      <td>01-Jan-1995</td>\n",
       "      <td>NaN</td>\n",
       "      <td>http://us.imdb.com/M/title-exact?Get%20Shorty%...</td>\n",
       "      <td>0</td>\n",
       "      <td>1</td>\n",
       "      <td>0</td>\n",
       "      <td>0</td>\n",
       "      <td>0</td>\n",
       "      <td>1</td>\n",
       "      <td>0</td>\n",
       "      <td>0</td>\n",
       "      <td>1</td>\n",
       "      <td>0</td>\n",
       "      <td>0</td>\n",
       "      <td>0</td>\n",
       "      <td>0</td>\n",
       "      <td>0</td>\n",
       "      <td>0</td>\n",
       "      <td>0</td>\n",
       "      <td>0</td>\n",
       "      <td>0</td>\n",
       "      <td>0</td>\n",
       "    </tr>\n",
       "    <tr>\n",
       "      <th>4</th>\n",
       "      <td>5</td>\n",
       "      <td>Copycat (1995)</td>\n",
       "      <td>01-Jan-1995</td>\n",
       "      <td>NaN</td>\n",
       "      <td>http://us.imdb.com/M/title-exact?Copycat%20(1995)</td>\n",
       "      <td>0</td>\n",
       "      <td>0</td>\n",
       "      <td>0</td>\n",
       "      <td>0</td>\n",
       "      <td>0</td>\n",
       "      <td>0</td>\n",
       "      <td>1</td>\n",
       "      <td>0</td>\n",
       "      <td>1</td>\n",
       "      <td>0</td>\n",
       "      <td>0</td>\n",
       "      <td>0</td>\n",
       "      <td>0</td>\n",
       "      <td>0</td>\n",
       "      <td>0</td>\n",
       "      <td>0</td>\n",
       "      <td>1</td>\n",
       "      <td>0</td>\n",
       "      <td>0</td>\n",
       "    </tr>\n",
       "  </tbody>\n",
       "</table>\n",
       "</div>"
      ],
      "text/plain": [
       "   item_id          item_name         date  none  \\\n",
       "0        1   Toy Story (1995)  01-Jan-1995   NaN   \n",
       "1        2   GoldenEye (1995)  01-Jan-1995   NaN   \n",
       "2        3  Four Rooms (1995)  01-Jan-1995   NaN   \n",
       "3        4  Get Shorty (1995)  01-Jan-1995   NaN   \n",
       "4        5     Copycat (1995)  01-Jan-1995   NaN   \n",
       "\n",
       "                                                 url  unknown  Action  \\\n",
       "0  http://us.imdb.com/M/title-exact?Toy%20Story%2...        0       0   \n",
       "1  http://us.imdb.com/M/title-exact?GoldenEye%20(...        0       1   \n",
       "2  http://us.imdb.com/M/title-exact?Four%20Rooms%...        0       0   \n",
       "3  http://us.imdb.com/M/title-exact?Get%20Shorty%...        0       1   \n",
       "4  http://us.imdb.com/M/title-exact?Copycat%20(1995)        0       0   \n",
       "\n",
       "   Adventure  Animation  Children's  Comedy  Crime  Documentary  Drama  \\\n",
       "0          0          1           1       1      0            0      0   \n",
       "1          1          0           0       0      0            0      0   \n",
       "2          0          0           0       0      0            0      0   \n",
       "3          0          0           0       1      0            0      1   \n",
       "4          0          0           0       0      1            0      1   \n",
       "\n",
       "   Fantasy  Film-Noir  Horror  Musical  Mystery  Romance  Sci-Fi  Thriller  \\\n",
       "0        0          0       0        0        0        0       0         0   \n",
       "1        0          0       0        0        0        0       0         1   \n",
       "2        0          0       0        0        0        0       0         1   \n",
       "3        0          0       0        0        0        0       0         0   \n",
       "4        0          0       0        0        0        0       0         1   \n",
       "\n",
       "   War  Western  \n",
       "0    0        0  \n",
       "1    0        0  \n",
       "2    0        0  \n",
       "3    0        0  \n",
       "4    0        0  "
      ]
     },
     "execution_count": 4,
     "metadata": {},
     "output_type": "execute_result"
    }
   ],
   "source": [
    "item_information.head()"
   ]
  },
  {
   "cell_type": "markdown",
   "id": "3edd4b72",
   "metadata": {},
   "source": [
    "Computar número de películas en cada género."
   ]
  },
  {
   "cell_type": "markdown",
   "id": "0309d51b",
   "metadata": {},
   "source": [
    "# Cálculo de las frecuencias de cada género"
   ]
  },
  {
   "cell_type": "markdown",
   "id": "5a1c6f4a",
   "metadata": {},
   "source": [
    "Se trata de visualizar de manera sencilla el número de películas dentro de cada género (como cada película puede pertenecer a más de una categoría, la suma no es igual al número total de películas)."
   ]
  },
  {
   "cell_type": "code",
   "execution_count": 5,
   "id": "69629a1b",
   "metadata": {},
   "outputs": [
    {
     "data": {
      "image/png": "[encoded data removed]",
      "text/plain": [
       "<Figure size 1080x360 with 1 Axes>"
      ]
     },
     "metadata": {
      "needs_background": "light"
     },
     "output_type": "display_data"
    }
   ],
   "source": [
    "genre_names, genre_frequencies = calculate_count_ocurrences(item_information)\n",
    "\n",
    "plt.bar(genre_names, genre_frequencies)\n",
    "plt.xticks(genre_names, rotation='vertical')\n",
    "plt.show()"
   ]
  },
  {
   "cell_type": "markdown",
   "id": "5ed38ca5",
   "metadata": {},
   "source": [
    "Podemos ver que la categoría más representada (casi un 50%) es la de Drama, seguida por la Comedia. "
   ]
  },
  {
   "cell_type": "markdown",
   "id": "2543a62d",
   "metadata": {},
   "source": [
    "# Construcción de matriz de ratings"
   ]
  },
  {
   "cell_type": "markdown",
   "id": "a0f57220",
   "metadata": {},
   "source": [
    "Se construye la matriz de ratings y se extraen estadísticos fundamentales (media de voto en todos los ratings, media de voto en cada película, distribución de ratings por usuario, distribución de ratings de los ítems, etc.)."
   ]
  },
  {
   "cell_type": "code",
   "execution_count": 6,
   "id": "4194b9a2",
   "metadata": {},
   "outputs": [],
   "source": [
    "r = data.pivot(index='user_id', columns='item_id', values='rating').values"
   ]
  },
  {
   "cell_type": "code",
   "execution_count": 7,
   "id": "e4765f53",
   "metadata": {},
   "outputs": [],
   "source": [
    "r_shape = r.shape"
   ]
  },
  {
   "cell_type": "code",
   "execution_count": 9,
   "id": "94785d7f",
   "metadata": {},
   "outputs": [
    {
     "name": "stdout",
     "output_type": "stream",
     "text": [
      "Rating matrix shape:  (943, 1682)\n",
      "Number of missing values:  1486126\n",
      "Percentage of missing values:  0.9369533063577546\n"
     ]
    }
   ],
   "source": [
    "print(\"Rating matrix shape: \", r_shape)\n",
    "print(\"Number of missing values: \", np.sum(np.isnan(r)))\n",
    "print(\"Percentage of missing values: \", np.sum(np.isnan(r)) / (r_shape[0] * r_shape[1]))"
   ]
  },
  {
   "cell_type": "markdown",
   "id": "c683cc96",
   "metadata": {},
   "source": [
    "La matriz de ratings, R, de dimensión 943 x 1682, es decir 943 usuarios y 1682 items. Por otro lado, vemos que un 93.7 % de los valores de la matriz son \"missing values\". Es decir, se trata de una matriz claramente \"sparse\", algo evidente al tratarse de una matriz de ratings. El número de ratings es de 100000 (de ahí el nombre del dataset).\n",
    "\n",
    "Veamos a continuación algunos estadísticos interesantes para hacernos una idea de la estructura de la matriz."
   ]
  },
  {
   "cell_type": "code",
   "execution_count": 10,
   "id": "4268c17f",
   "metadata": {},
   "outputs": [
    {
     "name": "stdout",
     "output_type": "stream",
     "text": [
      "Average rating in all Movielens 100K:  3.52986\n",
      "Max / Min rating:  1.0 5.0\n"
     ]
    }
   ],
   "source": [
    "print(\"Average rating in all Movielens 100K: \", np.nanmean(r))\n",
    "print(\"Max / Min rating: \", np.nanmin(r), np.nanmax(r))"
   ]
  },
  {
   "cell_type": "code",
   "execution_count": 12,
   "id": "5b635a10",
   "metadata": {},
   "outputs": [],
   "source": [
    "number_of_ratings_per_user = np.sum(~ np.isnan(r), axis=1)"
   ]
  },
  {
   "cell_type": "code",
   "execution_count": 13,
   "id": "ecd7918e",
   "metadata": {},
   "outputs": [
    {
     "name": "stdout",
     "output_type": "stream",
     "text": [
      "Mean of ratings per user:  106.04453870625663\n",
      "Quantiles of ratings per user:  [ 20.   21.   33.   65.  148.  310.6 737. ]\n"
     ]
    }
   ],
   "source": [
    "print(\"Mean of ratings per user: \", np.mean(number_of_ratings_per_user))\n",
    "print(\"Quantiles of ratings per user: \", np.quantile(number_of_ratings_per_user,\n",
    "                                                     q=[0.0, 0.05, 0.25, 0.5, 0.75, 0.95, 1.]))"
   ]
  },
  {
   "cell_type": "code",
   "execution_count": 14,
   "id": "e5f34932",
   "metadata": {},
   "outputs": [
    {
     "data": {
      "text/plain": [
       "(array([172.,  82.,  59.,  56.,  47.,  48.,  33.,  31.,  20.,  12.,  19.,\n",
       "         25.,  23.,  14.,  19.,  14.,  18.,  21.,  16.,  14.,   9.,   9.,\n",
       "         13.,  12.,   8.,  10.,   7.,   8.,  10.,  10.,   9.,   4.,   3.,\n",
       "          6.,   4.,  11.,   6.,   2.,   5.,   5.,   3.,   4.,   5.,   3.,\n",
       "          1.,   0.,   1.,   5.,   2.,   1.,   2.,   4.,   3.,   2.,   1.,\n",
       "          0.,   0.,   2.,   0.,   1.,   0.,   0.,   0.,   0.,   2.,   2.,\n",
       "          0.,   0.,   0.,   1.,   0.,   0.,   1.,   0.,   0.,   0.,   0.,\n",
       "          0.,   0.,   0.,   0.,   0.,   0.,   0.,   0.,   1.,   0.,   0.,\n",
       "          0.,   0.,   0.,   0.,   1.,   0.,   0.,   0.,   0.,   0.,   0.,\n",
       "          1.]),\n",
       " array([ 20.  ,  27.17,  34.34,  41.51,  48.68,  55.85,  63.02,  70.19,\n",
       "         77.36,  84.53,  91.7 ,  98.87, 106.04, 113.21, 120.38, 127.55,\n",
       "        134.72, 141.89, 149.06, 156.23, 163.4 , 170.57, 177.74, 184.91,\n",
       "        192.08, 199.25, 206.42, 213.59, 220.76, 227.93, 235.1 , 242.27,\n",
       "        249.44, 256.61, 263.78, 270.95, 278.12, 285.29, 292.46, 299.63,\n",
       "        306.8 , 313.97, 321.14, 328.31, 335.48, 342.65, 349.82, 356.99,\n",
       "        364.16, 371.33, 378.5 , 385.67, 392.84, 400.01, 407.18, 414.35,\n",
       "        421.52, 428.69, 435.86, 443.03, 450.2 , 457.37, 464.54, 471.71,\n",
       "        478.88, 486.05, 493.22, 500.39, 507.56, 514.73, 521.9 , 529.07,\n",
       "        536.24, 543.41, 550.58, 557.75, 564.92, 572.09, 579.26, 586.43,\n",
       "        593.6 , 600.77, 607.94, 615.11, 622.28, 629.45, 636.62, 643.79,\n",
       "        650.96, 658.13, 665.3 , 672.47, 679.64, 686.81, 693.98, 701.15,\n",
       "        708.32, 715.49, 722.66, 729.83, 737.  ]),\n",
       " <BarContainer object of 100 artists>)"
      ]
     },
     "execution_count": 14,
     "metadata": {},
     "output_type": "execute_result"
    },
    {
     "data": {
      "image/png": "[encoded data removed]",
      "text/plain": [
       "<Figure size 1080x360 with 1 Axes>"
      ]
     },
     "metadata": {
      "needs_background": "light"
     },
     "output_type": "display_data"
    }
   ],
   "source": [
    "plt.hist(number_of_ratings_per_user, bins=100)"
   ]
  },
  {
   "cell_type": "code",
   "execution_count": 16,
   "id": "77787c74",
   "metadata": {},
   "outputs": [],
   "source": [
    "number_of_ratings_per_item = np.sum(~ np.isnan(r), axis=0)"
   ]
  },
  {
   "cell_type": "code",
   "execution_count": 17,
   "id": "8d3a22cf",
   "metadata": {},
   "outputs": [
    {
     "name": "stdout",
     "output_type": "stream",
     "text": [
      "Mean of ratings per item:  59.45303210463734\n",
      "Quantiles of ratings per item:  [  1.     1.     6.    27.    80.   229.85 583.  ]\n"
     ]
    }
   ],
   "source": [
    "print(\"Mean of ratings per item: \", np.mean(number_of_ratings_per_item))\n",
    "print(\"Quantiles of ratings per item: \", np.quantile(number_of_ratings_per_item,\n",
    "                                                     q=[0.0, 0.05, 0.25, 0.5, 0.75, 0.95, 1.]))"
   ]
  },
  {
   "cell_type": "code",
   "execution_count": 18,
   "id": "49c9ce31",
   "metadata": {},
   "outputs": [
    {
     "data": {
      "text/plain": [
       "(array([423., 188., 114.,  85.,  74.,  55.,  58.,  65.,  44.,  40.,  37.,\n",
       "         38.,  28.,  31.,  21.,  28.,  15.,  22.,  10.,  19.,  15.,  30.,\n",
       "         10.,  13.,   7.,  15.,  10.,  10.,  10.,  19.,  11.,   6.,   6.,\n",
       "          6.,   5.,   8.,   5.,  12.,   4.,   4.,   3.,   7.,   7.,   4.,\n",
       "          3.,   4.,   1.,   5.,   2.,   2.,   7.,   6.,   0.,   1.,   3.,\n",
       "          2.,   1.,   1.,   1.,   2.,   0.,   0.,   2.,   0.,   1.,   1.,\n",
       "          1.,   2.,   0.,   0.,   1.,   1.,   0.,   2.,   0.,   0.,   0.,\n",
       "          1.,   0.,   0.,   0.,   1.,   1.,   1.,   0.,   0.,   1.,   2.,\n",
       "          0.,   0.,   0.,   0.,   0.,   0.,   0.,   0.,   0.,   0.,   0.,\n",
       "          1.]),\n",
       " array([  1.  ,   6.82,  12.64,  18.46,  24.28,  30.1 ,  35.92,  41.74,\n",
       "         47.56,  53.38,  59.2 ,  65.02,  70.84,  76.66,  82.48,  88.3 ,\n",
       "         94.12,  99.94, 105.76, 111.58, 117.4 , 123.22, 129.04, 134.86,\n",
       "        140.68, 146.5 , 152.32, 158.14, 163.96, 169.78, 175.6 , 181.42,\n",
       "        187.24, 193.06, 198.88, 204.7 , 210.52, 216.34, 222.16, 227.98,\n",
       "        233.8 , 239.62, 245.44, 251.26, 257.08, 262.9 , 268.72, 274.54,\n",
       "        280.36, 286.18, 292.  , 297.82, 303.64, 309.46, 315.28, 321.1 ,\n",
       "        326.92, 332.74, 338.56, 344.38, 350.2 , 356.02, 361.84, 367.66,\n",
       "        373.48, 379.3 , 385.12, 390.94, 396.76, 402.58, 408.4 , 414.22,\n",
       "        420.04, 425.86, 431.68, 437.5 , 443.32, 449.14, 454.96, 460.78,\n",
       "        466.6 , 472.42, 478.24, 484.06, 489.88, 495.7 , 501.52, 507.34,\n",
       "        513.16, 518.98, 524.8 , 530.62, 536.44, 542.26, 548.08, 553.9 ,\n",
       "        559.72, 565.54, 571.36, 577.18, 583.  ]),\n",
       " <BarContainer object of 100 artists>)"
      ]
     },
     "execution_count": 18,
     "metadata": {},
     "output_type": "execute_result"
    },
    {
     "data": {
      "image/png": "[encoded data removed]",
      "text/plain": [
       "<Figure size 1080x360 with 1 Axes>"
      ]
     },
     "metadata": {
      "needs_background": "light"
     },
     "output_type": "display_data"
    }
   ],
   "source": [
    "plt.hist(number_of_ratings_per_item, bins=100)"
   ]
  },
  {
   "cell_type": "markdown",
   "id": "3c7f798d",
   "metadata": {},
   "source": [
    "Se puede interpretar como la clásica distribución longtail, donde tenemos que la mayor parte de ítems tiene muy poco seguimiento por parte de la comunidad, mientras que hay un subconjunto selecto que tiene mucho seguimientos. Vamos a verlo con otro plot, en este caso intentando mostrar esta popularidad como el número de ratings recibidos."
   ]
  },
  {
   "cell_type": "code",
   "execution_count": 19,
   "id": "28a0f8b1",
   "metadata": {},
   "outputs": [
    {
     "data": {
      "text/plain": [
       "[<matplotlib.lines.Line2D at 0x7fcb8d5ee430>]"
      ]
     },
     "execution_count": 19,
     "metadata": {},
     "output_type": "execute_result"
    },
    {
     "data": {
      "image/png": "[encoded data removed]",
      "text/plain": [
       "<Figure size 1080x360 with 1 Axes>"
      ]
     },
     "metadata": {
      "needs_background": "light"
     },
     "output_type": "display_data"
    }
   ],
   "source": [
    "plt.plot(np.sort(number_of_ratings_per_item)[::-1])"
   ]
  },
  {
   "cell_type": "markdown",
   "id": "a7958fe4",
   "metadata": {},
   "source": [
    "Como podemos ver, la \"popularidad\" entre los ítems es claramente asimétrica, existiendo ítems con una notoriedad muy alta y otros que tienen muy poco seguimiento. Una de las claves de la \"serendipia\" es conseguir bucear en la \"long-tail\", en la región desconocida, para poder encontrar recomendaciones que sorprendan al usuario."
   ]
  },
  {
   "cell_type": "markdown",
   "id": "4176818f",
   "metadata": {},
   "source": [
    "# Generate train and test"
   ]
  },
  {
   "cell_type": "code",
   "execution_count": 20,
   "id": "36e65e9b",
   "metadata": {},
   "outputs": [],
   "source": [
    "def generate_new_matrix(selected_rows):\n",
    "    r = np.zeros((943, 1682))\n",
    "    r[:] = np.nan\n",
    "    for i in selected_rows:\n",
    "        r[i[0] - 1][i[1] - 1] = i[2]\n",
    "    return r"
   ]
  },
  {
   "cell_type": "code",
   "execution_count": 21,
   "id": "dde562a7",
   "metadata": {},
   "outputs": [],
   "source": [
    "train, test = train_test_split(data, test_size=0.1, random_state=178, shuffle=True)"
   ]
  },
  {
   "cell_type": "code",
   "execution_count": 22,
   "id": "b968a52c",
   "metadata": {},
   "outputs": [],
   "source": [
    "r_train, r_test = generate_new_matrix(train.values), generate_new_matrix(test.values)"
   ]
  },
  {
   "cell_type": "code",
   "execution_count": 23,
   "id": "6b6c5316",
   "metadata": {},
   "outputs": [
    {
     "name": "stdout",
     "output_type": "stream",
     "text": [
      "90000\n",
      "10000\n"
     ]
    }
   ],
   "source": [
    "print(np.sum(~ np.isnan(r_train)))\n",
    "print(np.sum(~ np.isnan(r_test)))"
   ]
  },
  {
   "cell_type": "markdown",
   "id": "6602c513",
   "metadata": {},
   "source": [
    "Generamos un conjunto de entrenamiento y de test que usaremos durante toda la investigación. La idea es que los resultados se comparen con el conjunto de test, de modo que todos los resultados sean comparables."
   ]
  },
  {
   "cell_type": "code",
   "execution_count": 25,
   "id": "f8d2375b",
   "metadata": {},
   "outputs": [
    {
     "data": {
      "text/html": [
       "<div>\n",
       "<style scoped>\n",
       "    .dataframe tbody tr th:only-of-type {\n",
       "        vertical-align: middle;\n",
       "    }\n",
       "\n",
       "    .dataframe tbody tr th {\n",
       "        vertical-align: top;\n",
       "    }\n",
       "\n",
       "    .dataframe thead th {\n",
       "        text-align: right;\n",
       "    }\n",
       "</style>\n",
       "<table border=\"1\" class=\"dataframe\">\n",
       "  <thead>\n",
       "    <tr style=\"text-align: right;\">\n",
       "      <th></th>\n",
       "      <th>user_id</th>\n",
       "      <th>item_id</th>\n",
       "      <th>rating</th>\n",
       "      <th>timestamp</th>\n",
       "    </tr>\n",
       "  </thead>\n",
       "  <tbody>\n",
       "    <tr>\n",
       "      <th>24340</th>\n",
       "      <td>85</td>\n",
       "      <td>423</td>\n",
       "      <td>4</td>\n",
       "      <td>879454046</td>\n",
       "    </tr>\n",
       "    <tr>\n",
       "      <th>3500</th>\n",
       "      <td>290</td>\n",
       "      <td>71</td>\n",
       "      <td>5</td>\n",
       "      <td>880473667</td>\n",
       "    </tr>\n",
       "    <tr>\n",
       "      <th>36543</th>\n",
       "      <td>152</td>\n",
       "      <td>692</td>\n",
       "      <td>5</td>\n",
       "      <td>880149963</td>\n",
       "    </tr>\n",
       "    <tr>\n",
       "      <th>55062</th>\n",
       "      <td>759</td>\n",
       "      <td>678</td>\n",
       "      <td>2</td>\n",
       "      <td>875227742</td>\n",
       "    </tr>\n",
       "    <tr>\n",
       "      <th>3534</th>\n",
       "      <td>92</td>\n",
       "      <td>928</td>\n",
       "      <td>3</td>\n",
       "      <td>886443582</td>\n",
       "    </tr>\n",
       "  </tbody>\n",
       "</table>\n",
       "</div>"
      ],
      "text/plain": [
       "       user_id  item_id  rating  timestamp\n",
       "24340       85      423       4  879454046\n",
       "3500       290       71       5  880473667\n",
       "36543      152      692       5  880149963\n",
       "55062      759      678       2  875227742\n",
       "3534        92      928       3  886443582"
      ]
     },
     "execution_count": 25,
     "metadata": {},
     "output_type": "execute_result"
    }
   ],
   "source": [
    "train.head()"
   ]
  },
  {
   "cell_type": "code",
   "execution_count": 26,
   "id": "f868688c",
   "metadata": {},
   "outputs": [
    {
     "data": {
      "text/html": [
       "<div>\n",
       "<style scoped>\n",
       "    .dataframe tbody tr th:only-of-type {\n",
       "        vertical-align: middle;\n",
       "    }\n",
       "\n",
       "    .dataframe tbody tr th {\n",
       "        vertical-align: top;\n",
       "    }\n",
       "\n",
       "    .dataframe thead th {\n",
       "        text-align: right;\n",
       "    }\n",
       "</style>\n",
       "<table border=\"1\" class=\"dataframe\">\n",
       "  <thead>\n",
       "    <tr style=\"text-align: right;\">\n",
       "      <th></th>\n",
       "      <th>user_id</th>\n",
       "      <th>item_id</th>\n",
       "      <th>rating</th>\n",
       "      <th>timestamp</th>\n",
       "    </tr>\n",
       "  </thead>\n",
       "  <tbody>\n",
       "    <tr>\n",
       "      <th>30807</th>\n",
       "      <td>301</td>\n",
       "      <td>39</td>\n",
       "      <td>3</td>\n",
       "      <td>882076292</td>\n",
       "    </tr>\n",
       "    <tr>\n",
       "      <th>33104</th>\n",
       "      <td>288</td>\n",
       "      <td>121</td>\n",
       "      <td>2</td>\n",
       "      <td>886893063</td>\n",
       "    </tr>\n",
       "    <tr>\n",
       "      <th>2327</th>\n",
       "      <td>234</td>\n",
       "      <td>614</td>\n",
       "      <td>3</td>\n",
       "      <td>892334609</td>\n",
       "    </tr>\n",
       "    <tr>\n",
       "      <th>96764</th>\n",
       "      <td>387</td>\n",
       "      <td>581</td>\n",
       "      <td>4</td>\n",
       "      <td>886483394</td>\n",
       "    </tr>\n",
       "    <tr>\n",
       "      <th>87360</th>\n",
       "      <td>544</td>\n",
       "      <td>346</td>\n",
       "      <td>4</td>\n",
       "      <td>884795135</td>\n",
       "    </tr>\n",
       "  </tbody>\n",
       "</table>\n",
       "</div>"
      ],
      "text/plain": [
       "       user_id  item_id  rating  timestamp\n",
       "30807      301       39       3  882076292\n",
       "33104      288      121       2  886893063\n",
       "2327       234      614       3  892334609\n",
       "96764      387      581       4  886483394\n",
       "87360      544      346       4  884795135"
      ]
     },
     "execution_count": 26,
     "metadata": {},
     "output_type": "execute_result"
    }
   ],
   "source": [
    "test.head()"
   ]
  },
  {
   "cell_type": "code",
   "execution_count": 27,
   "id": "bf32982b",
   "metadata": {},
   "outputs": [],
   "source": [
    "train.to_csv(\"../data/train.csv\", index=False)\n",
    "test.to_csv(\"../data/test.csv\", index=False)"
   ]
  }
 ],
 "metadata": {
  "kernelspec": {
   "display_name": "Python 3 (ipykernel)",
   "language": "python",
   "name": "python3"
  },
  "language_info": {
   "codemirror_mode": {
    "name": "ipython",
    "version": 3
   },
   "file_extension": ".py",
   "mimetype": "text/x-python",
   "name": "python",
   "nbconvert_exporter": "python",
   "pygments_lexer": "ipython3",
   "version": "3.8.10"
  }
 },
 "nbformat": 4,
 "nbformat_minor": 5
}
