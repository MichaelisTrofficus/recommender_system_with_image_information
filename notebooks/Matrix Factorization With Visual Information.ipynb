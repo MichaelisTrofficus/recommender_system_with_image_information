{
 "cells": [
  {
   "cell_type": "code",
   "execution_count": 1,
   "id": "db8e38b2",
   "metadata": {},
   "outputs": [],
   "source": [
    "import os\n",
    "import pandas as pd\n",
    "import torch\n",
    "from torch.utils.data import Dataset, DataLoader\n",
    "from torchvision.transforms import ToTensor\n",
    "\n",
    "class MovielensDataset(Dataset):\n",
    "    def __init__(self, path, transform=None):\n",
    "        self.ratings = pd.read_csv(path).values\n",
    "        self.path = path\n",
    "        self.transform= transform\n",
    "        \n",
    "    def __len__(self):\n",
    "        return len(self.ratings)\n",
    "    \n",
    "    def __getitem__(self, idx):\n",
    "        \"\"\"\n",
    "        Returns uid, iid and rating\n",
    "        \"\"\"\n",
    "        return int(self.ratings[idx][0]), int(self.ratings[idx][1]), float(self.ratings[idx][2])"
   ]
  },
  {
   "cell_type": "code",
   "execution_count": null,
   "id": "ebf63488",
   "metadata": {},
   "outputs": [],
   "source": [
    "train_dataset = MovielensDataset(path=\"../data/df_train.csv\", transform=ToTensor())\n",
    "validation_dataset = MovielensDataset(path=\"../data/df_val.csv\", transform=ToTensor())\n",
    "test_dataset = MovielensDataset(path=\"../data/df_test.csv\", transform=ToTensor())"
   ]
  },
  {
   "cell_type": "code",
   "execution_count": null,
   "id": "ec7c5bf7",
   "metadata": {},
   "outputs": [],
   "source": [
    "train_dataloader = DataLoader(train_dataset, batch_size=256, shuffle=True)\n",
    "validation_dataloader = DataLoader(validation_dataset, batch_size=256, shuffle=False)\n",
    "test_dataloader = DataLoader(test_dataset, batch_size=256, shuffle=False)"
   ]
  },
  {
   "cell_type": "markdown",
   "id": "30b423d6",
   "metadata": {},
   "source": [
    "# Matrix Factorization with Visual Information"
   ]
  },
  {
   "cell_type": "code",
   "execution_count": null,
   "id": "c2ca1803",
   "metadata": {},
   "outputs": [],
   "source": [
    "class MatrixFactorization(torch.nn.Module):\n",
    "    def __init__(self, n_users, n_items, n_factors=30):\n",
    "        super().__init__()\n",
    "        self.user_factors = torch.nn.Embedding(n_users, n_factors)\n",
    "        self.user_bias = torch.nn.Embedding(n_users, 1)\n",
    "            \n",
    "        self.item_factors = torch.nn.Embedding(n_items, n_factors)\n",
    "        self.item_bias = torch.nn.Embedding(n_items, 1) \n",
    "\n",
    "        for param in self.parameters():\n",
    "            torch.nn.init.normal_(param, std=0.01)  \n",
    "    \n",
    "    def forward(self, user, item):\n",
    "        Q = self.user_factors(user)\n",
    "        bq = self.user_bias(user).flatten()\n",
    "\n",
    "        I = self.item_factors(item)\n",
    "        bi = self.item_bias(item).flatten()\n",
    "\n",
    "        return (Q*I).sum(-1) + bq + bi"
   ]
  },
  {
   "cell_type": "code",
   "execution_count": null,
   "id": "7cb4fb36",
   "metadata": {},
   "outputs": [],
   "source": []
  }
 ],
 "metadata": {
  "kernelspec": {
   "display_name": "Python 3 (ipykernel)",
   "language": "python",
   "name": "python3"
  },
  "language_info": {
   "codemirror_mode": {
    "name": "ipython",
    "version": 3
   },
   "file_extension": ".py",
   "mimetype": "text/x-python",
   "name": "python",
   "nbconvert_exporter": "python",
   "pygments_lexer": "ipython3",
   "version": "3.9.13"
  }
 },
 "nbformat": 4,
 "nbformat_minor": 5
}
