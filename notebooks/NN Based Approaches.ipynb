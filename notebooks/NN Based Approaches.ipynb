{
 "cells": [
  {
   "cell_type": "code",
   "execution_count": 61,
   "id": "1260d86d",
   "metadata": {},
   "outputs": [],
   "source": [
    "import os\n",
    "import random\n",
    "import matplotlib.pyplot as plt\n",
    "import scienceplots\n",
    "\n",
    "from surprise import Dataset, Reader, NormalPredictor, BaselineOnly, KNNBasic, KNNWithMeans, KNNWithZScore, accuracy, SlopeOne\n",
    "from surprise.model_selection import train_test_split, GridSearchCV\n",
    "\n",
    "# Define a random state so that the train test splits can be reproducible\n",
    "RANDOM_STATE = 128\n",
    "\n",
    "# Add this path to use SciencePlots (it uses latex)\n",
    "os.environ[\"PATH\"] += os.pathsep + \"/Library/TeX/texbin\"\n",
    "\n",
    "plt.rcParams[\"figure.figsize\"] = (100,100)\n",
    "plt.style.use(['science', 'scatter'])"
   ]
  },
  {
   "cell_type": "markdown",
   "id": "1fc98e08",
   "metadata": {},
   "source": [
    "We will be using `surprise` to compare several NN based algorithms and a basic Matrix Factorization technique as presented in the original paper. Let's make a table of comparison of each algorithm to check the superiority of Matrix Factorization techniques. "
   ]
  },
  {
   "cell_type": "markdown",
   "id": "d334e58d",
   "metadata": {},
   "source": [
    "### Generate train and test sets"
   ]
  },
  {
   "cell_type": "code",
   "execution_count": 3,
   "id": "94a2cd25",
   "metadata": {},
   "outputs": [],
   "source": [
    "# path to dataset file\n",
    "file_path = \"../ml-100k/u.data\"\n",
    "reader = Reader(line_format=\"user item rating timestamp\", sep=\"\\t\")\n",
    "data = Dataset.load_from_file(file_path, reader=reader)\n",
    "\n",
    "# Get raw ratings from `Dataset` object\n",
    "raw_ratings = data.raw_ratings\n",
    "\n",
    "# Shuffle the raw ratings and select train and test splits (75 % / 25 %)\n",
    "random.Random(RANDOM_STATE).shuffle(raw_ratings)\n",
    "threshold = int(0.75 * len(raw_ratings))\n",
    "train_raw_ratings = raw_ratings[:threshold]\n",
    "test_raw_ratings = raw_ratings[threshold:]\n",
    "\n",
    "# Set `Dataset` `raw_rating` property to `train_raw_ratings`. We will be using this object from GridSearch\n",
    "data.raw_ratings = train_raw_ratings  # data is now the set A\n",
    "assert len(data.raw_ratings) == 75000\n",
    "\n",
    "train_dataset = data\n",
    "trainset = data.build_full_trainset()\n",
    "testset = data.construct_testset(test_raw_ratings)"
   ]
  },
  {
   "cell_type": "markdown",
   "id": "b2f5bfc9",
   "metadata": {},
   "source": [
    "### Basic Algorithms "
   ]
  },
  {
   "cell_type": "markdown",
   "id": "3c532070",
   "metadata": {},
   "source": [
    "These two algorithms are useful as baselines."
   ]
  },
  {
   "cell_type": "markdown",
   "id": "c902ff25",
   "metadata": {},
   "source": [
    "##### Normal Predictor"
   ]
  },
  {
   "cell_type": "code",
   "execution_count": 5,
   "id": "8a52598e",
   "metadata": {},
   "outputs": [
    {
     "name": "stdout",
     "output_type": "stream",
     "text": [
      "RMSE: 1.5219\n",
      "MAE:  1.2199\n"
     ]
    }
   ],
   "source": [
    "normal_predictor = NormalPredictor()\n",
    "normal_predictor.fit(trainset)\n",
    "predictions = normal_predictor.test(testset)\n",
    "\n",
    "# MAE and RMSE\n",
    "rmse = accuracy.rmse(predictions)\n",
    "mae = accuracy.mae(predictions)"
   ]
  },
  {
   "cell_type": "code",
   "execution_count": 6,
   "id": "6d0ea0a5",
   "metadata": {},
   "outputs": [
    {
     "name": "stdout",
     "output_type": "stream",
     "text": [
      "RMSE: 1.521873875887593 | MAE: 1.2198513109142557\n"
     ]
    }
   ],
   "source": [
    "print(f\"RMSE: {rmse} | MAE: {mae}\")"
   ]
  },
  {
   "cell_type": "markdown",
   "id": "cbf631bd",
   "metadata": {},
   "source": [
    "##### Baseline Predictor\n",
    "\n",
    "We will obtain b_u and b_i using alternating least squares and using regularization on both parameters. We will be using the default parameters in `surprise`. That is, a `reg_i` of 10, `reg_u` of 15 and 10 epochs."
   ]
  },
  {
   "cell_type": "code",
   "execution_count": 7,
   "id": "00eb228a",
   "metadata": {
    "scrolled": true
   },
   "outputs": [
    {
     "name": "stdout",
     "output_type": "stream",
     "text": [
      "Estimating biases using als...\n",
      "RMSE: 0.9476\n",
      "MAE:  0.7529\n"
     ]
    }
   ],
   "source": [
    "baseline_predictor = BaselineOnly()\n",
    "baseline_predictor.fit(trainset)\n",
    "predictions = baseline_predictor.test(testset)\n",
    "\n",
    "# MAE and RMSE\n",
    "rmse = accuracy.rmse(predictions)\n",
    "mae = accuracy.mae(predictions)"
   ]
  },
  {
   "cell_type": "code",
   "execution_count": 8,
   "id": "b4b0d3de",
   "metadata": {},
   "outputs": [
    {
     "name": "stdout",
     "output_type": "stream",
     "text": [
      "RMSE: 0.9476210485869836 | MAE: 0.752901554880153\n"
     ]
    }
   ],
   "source": [
    "print(f\"RMSE: {rmse} | MAE: {mae}\")"
   ]
  },
  {
   "cell_type": "markdown",
   "id": "01ba8553",
   "metadata": {},
   "source": [
    "### User-based KNN"
   ]
  },
  {
   "cell_type": "markdown",
   "id": "52cdfb8e",
   "metadata": {},
   "source": [
    "As the number of users in the MovieLens set is smaller than the number of items, the use of user-based CF algorithms seems to be more justified.  Therefore, we will show three modalities of these versus a single example of item-based algorithms in the next subsection. We will be using GridSearch to check the best number of neighbors `k`."
   ]
  },
  {
   "cell_type": "markdown",
   "id": "d75e0b31",
   "metadata": {},
   "source": [
    "##### KNN Basic"
   ]
  },
  {
   "cell_type": "code",
   "execution_count": 30,
   "id": "de81d43d",
   "metadata": {
    "collapsed": true
   },
   "outputs": [
    {
     "name": "stdout",
     "output_type": "stream",
     "text": [
      "Computing the msd similarity matrix...\n",
      "Done computing similarity matrix.\n",
      "Computing the msd similarity matrix...\n",
      "Done computing similarity matrix.\n",
      "Computing the msd similarity matrix...\n",
      "Done computing similarity matrix.\n",
      "Computing the msd similarity matrix...\n",
      "Done computing similarity matrix.\n",
      "Computing the msd similarity matrix...\n",
      "Done computing similarity matrix.\n",
      "Computing the msd similarity matrix...\n",
      "Done computing similarity matrix.\n",
      "Computing the msd similarity matrix...\n",
      "Done computing similarity matrix.\n",
      "Computing the msd similarity matrix...\n",
      "Done computing similarity matrix.\n",
      "Computing the msd similarity matrix...\n",
      "Done computing similarity matrix.\n",
      "Computing the msd similarity matrix...\n",
      "Done computing similarity matrix.\n",
      "Computing the msd similarity matrix...\n",
      "Done computing similarity matrix.\n",
      "Computing the msd similarity matrix...\n",
      "Done computing similarity matrix.\n",
      "Computing the msd similarity matrix...\n",
      "Done computing similarity matrix.\n",
      "Computing the msd similarity matrix...\n",
      "Done computing similarity matrix.\n",
      "Computing the msd similarity matrix...\n",
      "Done computing similarity matrix.\n",
      "Computing the msd similarity matrix...\n",
      "Done computing similarity matrix.\n",
      "Computing the msd similarity matrix...\n",
      "Done computing similarity matrix.\n",
      "Computing the msd similarity matrix...\n",
      "Done computing similarity matrix.\n",
      "Computing the msd similarity matrix...\n",
      "Done computing similarity matrix.\n",
      "Computing the msd similarity matrix...\n",
      "Done computing similarity matrix.\n",
      "Computing the msd similarity matrix...\n",
      "Done computing similarity matrix.\n",
      "Computing the msd similarity matrix...\n",
      "Done computing similarity matrix.\n",
      "Computing the msd similarity matrix...\n",
      "Done computing similarity matrix.\n",
      "Computing the msd similarity matrix...\n",
      "Done computing similarity matrix.\n",
      "Computing the msd similarity matrix...\n",
      "Done computing similarity matrix.\n",
      "Computing the msd similarity matrix...\n",
      "Done computing similarity matrix.\n",
      "Computing the msd similarity matrix...\n",
      "Done computing similarity matrix.\n"
     ]
    }
   ],
   "source": [
    "param_grid = {\"k\": range(10, 100, 10), \"sim_options\": {\"name\": [\"msd\"], \"user_based\": [True]}}\n",
    "gs = GridSearchCV(KNNBasic, param_grid, measures=[\"rmse\", \"mae\"], cv=3)\n",
    "gs.fit(train_dataset)"
   ]
  },
  {
   "cell_type": "code",
   "execution_count": 34,
   "id": "defb3bec",
   "metadata": {},
   "outputs": [],
   "source": [
    "mean_rmse = gs.cv_results[\"mean_test_rmse\"]\n",
    "mean_mae = gs.cv_results[\"mean_test_mae\"]"
   ]
  },
  {
   "cell_type": "code",
   "execution_count": 45,
   "id": "40aaae77",
   "metadata": {},
   "outputs": [
    {
     "data": {
      "image/png": "[encoded data removed]",
      "text/plain": [
       "<Figure size 350x262.5 with 1 Axes>"
      ]
     },
     "metadata": {},
     "output_type": "display_data"
    }
   ],
   "source": [
    "plt.scatter(x=range(10, 100, 10), y=mean_rmse)\n",
    "plt.xlabel(\"K neighbors\")\n",
    "plt.ylabel(\"RMSE\")\n",
    "plt.show()"
   ]
  },
  {
   "cell_type": "code",
   "execution_count": 46,
   "id": "43cade1c",
   "metadata": {},
   "outputs": [
    {
     "data": {
      "image/png": "[encoded data removed]",
      "text/plain": [
       "<Figure size 350x262.5 with 1 Axes>"
      ]
     },
     "metadata": {},
     "output_type": "display_data"
    }
   ],
   "source": [
    "plt.scatter(x=range(10, 100, 10), y=mean_mae)\n",
    "plt.xlabel(\"K neighbors\")\n",
    "plt.ylabel(\"MAE\")\n",
    "plt.show()"
   ]
  },
  {
   "cell_type": "markdown",
   "id": "41e9985b",
   "metadata": {},
   "source": [
    "As we can see, the optimal number of neighbors is around 30. Now, simply train the model for this paremeter."
   ]
  },
  {
   "cell_type": "code",
   "execution_count": 49,
   "id": "cc83edc9",
   "metadata": {},
   "outputs": [
    {
     "name": "stdout",
     "output_type": "stream",
     "text": [
      "Computing the msd similarity matrix...\n",
      "Done computing similarity matrix.\n",
      "RMSE: 0.9827\n",
      "MAE:  0.7775\n"
     ]
    }
   ],
   "source": [
    "knn_basic = KNNBasic(k=30, sim_options={\"name\": \"msd\"})\n",
    "knn_basic.fit(trainset)\n",
    "predictions = knn_basic.test(testset)\n",
    "\n",
    "# MAE and RMSE\n",
    "rmse = accuracy.rmse(predictions)\n",
    "mae = accuracy.mae(predictions)"
   ]
  },
  {
   "cell_type": "code",
   "execution_count": 50,
   "id": "bb4a8cb1",
   "metadata": {},
   "outputs": [
    {
     "name": "stdout",
     "output_type": "stream",
     "text": [
      "RMSE: 0.9826580327023857 | MAE: 0.777536869506387\n"
     ]
    }
   ],
   "source": [
    "print(f\"RMSE: {rmse} | MAE: {mae}\")"
   ]
  },
  {
   "cell_type": "markdown",
   "id": "995ea990",
   "metadata": {},
   "source": [
    "##### KNN with Mean Centering"
   ]
  },
  {
   "cell_type": "code",
   "execution_count": 51,
   "id": "cc62355e",
   "metadata": {
    "collapsed": true
   },
   "outputs": [
    {
     "name": "stdout",
     "output_type": "stream",
     "text": [
      "Computing the msd similarity matrix...\n",
      "Done computing similarity matrix.\n",
      "Computing the msd similarity matrix...\n",
      "Done computing similarity matrix.\n",
      "Computing the msd similarity matrix...\n",
      "Done computing similarity matrix.\n",
      "Computing the msd similarity matrix...\n",
      "Done computing similarity matrix.\n",
      "Computing the msd similarity matrix...\n",
      "Done computing similarity matrix.\n",
      "Computing the msd similarity matrix...\n",
      "Done computing similarity matrix.\n",
      "Computing the msd similarity matrix...\n",
      "Done computing similarity matrix.\n",
      "Computing the msd similarity matrix...\n",
      "Done computing similarity matrix.\n",
      "Computing the msd similarity matrix...\n",
      "Done computing similarity matrix.\n",
      "Computing the msd similarity matrix...\n",
      "Done computing similarity matrix.\n",
      "Computing the msd similarity matrix...\n",
      "Done computing similarity matrix.\n",
      "Computing the msd similarity matrix...\n",
      "Done computing similarity matrix.\n",
      "Computing the msd similarity matrix...\n",
      "Done computing similarity matrix.\n",
      "Computing the msd similarity matrix...\n",
      "Done computing similarity matrix.\n",
      "Computing the msd similarity matrix...\n",
      "Done computing similarity matrix.\n",
      "Computing the msd similarity matrix...\n",
      "Done computing similarity matrix.\n",
      "Computing the msd similarity matrix...\n",
      "Done computing similarity matrix.\n",
      "Computing the msd similarity matrix...\n",
      "Done computing similarity matrix.\n",
      "Computing the msd similarity matrix...\n",
      "Done computing similarity matrix.\n",
      "Computing the msd similarity matrix...\n",
      "Done computing similarity matrix.\n",
      "Computing the msd similarity matrix...\n",
      "Done computing similarity matrix.\n",
      "Computing the msd similarity matrix...\n",
      "Done computing similarity matrix.\n",
      "Computing the msd similarity matrix...\n",
      "Done computing similarity matrix.\n",
      "Computing the msd similarity matrix...\n",
      "Done computing similarity matrix.\n",
      "Computing the msd similarity matrix...\n",
      "Done computing similarity matrix.\n",
      "Computing the msd similarity matrix...\n",
      "Done computing similarity matrix.\n",
      "Computing the msd similarity matrix...\n",
      "Done computing similarity matrix.\n"
     ]
    }
   ],
   "source": [
    "param_grid = {\"k\": range(10, 100, 10), \"sim_options\": {\"name\": [\"msd\"], \"user_based\": [True]}}\n",
    "gs = GridSearchCV(KNNWithMeans, param_grid, measures=[\"rmse\", \"mae\"], cv=3)\n",
    "gs.fit(train_dataset)\n",
    "\n",
    "mean_rmse = gs.cv_results[\"mean_test_rmse\"]\n",
    "mean_mae = gs.cv_results[\"mean_test_mae\"]"
   ]
  },
  {
   "cell_type": "code",
   "execution_count": 52,
   "id": "02d5ec16",
   "metadata": {},
   "outputs": [
    {
     "data": {
      "image/png": "[encoded data removed]",
      "text/plain": [
       "<Figure size 350x262.5 with 1 Axes>"
      ]
     },
     "metadata": {},
     "output_type": "display_data"
    }
   ],
   "source": [
    "plt.scatter(x=range(10, 100, 10), y=mean_rmse)\n",
    "plt.xlabel(\"K neighbors\")\n",
    "plt.ylabel(\"RMSE\")\n",
    "plt.show()"
   ]
  },
  {
   "cell_type": "code",
   "execution_count": 53,
   "id": "4aa2925f",
   "metadata": {},
   "outputs": [
    {
     "data": {
      "image/png": "[encoded data removed]",
      "text/plain": [
       "<Figure size 350x262.5 with 1 Axes>"
      ]
     },
     "metadata": {},
     "output_type": "display_data"
    }
   ],
   "source": [
    "plt.scatter(x=range(10, 100, 10), y=mean_mae)\n",
    "plt.xlabel(\"K neighbors\")\n",
    "plt.ylabel(\"MAE\")\n",
    "plt.show()"
   ]
  },
  {
   "cell_type": "code",
   "execution_count": 55,
   "id": "ac18481b",
   "metadata": {},
   "outputs": [
    {
     "name": "stdout",
     "output_type": "stream",
     "text": [
      "Computing the msd similarity matrix...\n",
      "Done computing similarity matrix.\n",
      "RMSE: 0.9530\n",
      "MAE:  0.7518\n"
     ]
    }
   ],
   "source": [
    "knn_withmeans = KNNWithMeans(k=60, sim_options={\"name\": \"msd\"})\n",
    "knn_withmeans.fit(trainset)\n",
    "predictions = knn_withmeans.test(testset)\n",
    "\n",
    "# MAE and RMSE\n",
    "rmse = accuracy.rmse(predictions)\n",
    "mae = accuracy.mae(predictions)"
   ]
  },
  {
   "cell_type": "markdown",
   "id": "a2c71c5a",
   "metadata": {},
   "source": [
    "##### KNN with Zscore "
   ]
  },
  {
   "cell_type": "code",
   "execution_count": 56,
   "id": "d1d91b53",
   "metadata": {
    "collapsed": true
   },
   "outputs": [
    {
     "name": "stdout",
     "output_type": "stream",
     "text": [
      "Computing the msd similarity matrix...\n",
      "Done computing similarity matrix.\n",
      "Computing the msd similarity matrix...\n",
      "Done computing similarity matrix.\n",
      "Computing the msd similarity matrix...\n",
      "Done computing similarity matrix.\n",
      "Computing the msd similarity matrix...\n",
      "Done computing similarity matrix.\n",
      "Computing the msd similarity matrix...\n",
      "Done computing similarity matrix.\n",
      "Computing the msd similarity matrix...\n",
      "Done computing similarity matrix.\n",
      "Computing the msd similarity matrix...\n",
      "Done computing similarity matrix.\n",
      "Computing the msd similarity matrix...\n",
      "Done computing similarity matrix.\n",
      "Computing the msd similarity matrix...\n",
      "Done computing similarity matrix.\n",
      "Computing the msd similarity matrix...\n",
      "Done computing similarity matrix.\n",
      "Computing the msd similarity matrix...\n",
      "Done computing similarity matrix.\n",
      "Computing the msd similarity matrix...\n",
      "Done computing similarity matrix.\n",
      "Computing the msd similarity matrix...\n",
      "Done computing similarity matrix.\n",
      "Computing the msd similarity matrix...\n",
      "Done computing similarity matrix.\n",
      "Computing the msd similarity matrix...\n",
      "Done computing similarity matrix.\n",
      "Computing the msd similarity matrix...\n",
      "Done computing similarity matrix.\n",
      "Computing the msd similarity matrix...\n",
      "Done computing similarity matrix.\n",
      "Computing the msd similarity matrix...\n",
      "Done computing similarity matrix.\n",
      "Computing the msd similarity matrix...\n",
      "Done computing similarity matrix.\n",
      "Computing the msd similarity matrix...\n",
      "Done computing similarity matrix.\n",
      "Computing the msd similarity matrix...\n",
      "Done computing similarity matrix.\n",
      "Computing the msd similarity matrix...\n",
      "Done computing similarity matrix.\n",
      "Computing the msd similarity matrix...\n",
      "Done computing similarity matrix.\n",
      "Computing the msd similarity matrix...\n",
      "Done computing similarity matrix.\n",
      "Computing the msd similarity matrix...\n",
      "Done computing similarity matrix.\n",
      "Computing the msd similarity matrix...\n",
      "Done computing similarity matrix.\n",
      "Computing the msd similarity matrix...\n",
      "Done computing similarity matrix.\n"
     ]
    }
   ],
   "source": [
    "param_grid = {\"k\": range(10, 100, 10), \"sim_options\": {\"name\": [\"msd\"], \"user_based\": [True]}}\n",
    "gs = GridSearchCV(KNNWithZScore, param_grid, measures=[\"rmse\", \"mae\"], cv=3)\n",
    "gs.fit(train_dataset)\n",
    "\n",
    "mean_rmse = gs.cv_results[\"mean_test_rmse\"]\n",
    "mean_mae = gs.cv_results[\"mean_test_mae\"]"
   ]
  },
  {
   "cell_type": "code",
   "execution_count": 57,
   "id": "dfd2a424",
   "metadata": {},
   "outputs": [
    {
     "data": {
      "image/png": "[encoded data removed]",
      "text/plain": [
       "<Figure size 350x262.5 with 1 Axes>"
      ]
     },
     "metadata": {},
     "output_type": "display_data"
    }
   ],
   "source": [
    "plt.scatter(x=range(10, 100, 10), y=mean_rmse)\n",
    "plt.xlabel(\"K neighbors\")\n",
    "plt.ylabel(\"RMSE\")\n",
    "plt.show()"
   ]
  },
  {
   "cell_type": "code",
   "execution_count": 58,
   "id": "b5ebe155",
   "metadata": {},
   "outputs": [
    {
     "data": {
      "image/png": "[encoded data removed]",
      "text/plain": [
       "<Figure size 350x262.5 with 1 Axes>"
      ]
     },
     "metadata": {},
     "output_type": "display_data"
    }
   ],
   "source": [
    "plt.scatter(x=range(10, 100, 10), y=mean_mae)\n",
    "plt.xlabel(\"K neighbors\")\n",
    "plt.ylabel(\"MAE\")\n",
    "plt.show()"
   ]
  },
  {
   "cell_type": "code",
   "execution_count": 59,
   "id": "adf98b8c",
   "metadata": {},
   "outputs": [
    {
     "data": {
      "text/plain": [
       "{'rmse': {'k': 70, 'sim_options': {'name': 'msd', 'user_based': True}},\n",
       " 'mae': {'k': 70, 'sim_options': {'name': 'msd', 'user_based': True}}}"
      ]
     },
     "execution_count": 59,
     "metadata": {},
     "output_type": "execute_result"
    }
   ],
   "source": [
    "gs.best_params"
   ]
  },
  {
   "cell_type": "code",
   "execution_count": 60,
   "id": "86614cc9",
   "metadata": {
    "scrolled": true
   },
   "outputs": [
    {
     "name": "stdout",
     "output_type": "stream",
     "text": [
      "Computing the msd similarity matrix...\n",
      "Done computing similarity matrix.\n",
      "RMSE: 0.9529\n",
      "MAE:  0.7481\n"
     ]
    }
   ],
   "source": [
    "knn_withzscore = KNNWithZScore(k=70, sim_options={\"name\": \"msd\"})\n",
    "knn_withzscore.fit(trainset)\n",
    "predictions = knn_withzscore.test(testset)\n",
    "\n",
    "# MAE and RMSE\n",
    "rmse = accuracy.rmse(predictions)\n",
    "mae = accuracy.mae(predictions)"
   ]
  },
  {
   "cell_type": "markdown",
   "id": "64d03c8b",
   "metadata": {},
   "source": [
    "### Item-based KNN (Slope One)"
   ]
  },
  {
   "cell_type": "markdown",
   "id": "9cf4011b",
   "metadata": {},
   "source": [
    "Finally as an example of Item-based we will be using the famous SlopeOne algorithm."
   ]
  },
  {
   "cell_type": "code",
   "execution_count": 65,
   "id": "038bb2a0",
   "metadata": {},
   "outputs": [
    {
     "name": "stdout",
     "output_type": "stream",
     "text": [
      "RMSE: 0.9493\n",
      "MAE:  0.7485\n"
     ]
    }
   ],
   "source": [
    "slope_one = SlopeOne()\n",
    "slope_one.fit(trainset)\n",
    "predictions = slope_one.test(testset)\n",
    "\n",
    "# MAE and RMSE\n",
    "rmse = accuracy.rmse(predictions)\n",
    "mae = accuracy.mae(predictions)"
   ]
  },
  {
   "cell_type": "markdown",
   "id": "014ce1b8",
   "metadata": {},
   "source": [
    "In the next notebook we will be implementing a traditional Matrix Factorization technique using `PyTorch`. Then, we wil try to include poster information using this same framework, trying to beat the results obtained with `RMSE` and `MAE` metrics."
   ]
  }
 ],
 "metadata": {
  "kernelspec": {
   "display_name": "Python 3 (ipykernel)",
   "language": "python",
   "name": "python3"
  },
  "language_info": {
   "codemirror_mode": {
    "name": "ipython",
    "version": 3
   },
   "file_extension": ".py",
   "mimetype": "text/x-python",
   "name": "python",
   "nbconvert_exporter": "python",
   "pygments_lexer": "ipython3",
   "version": "3.9.13"
  }
 },
 "nbformat": 4,
 "nbformat_minor": 5
}
